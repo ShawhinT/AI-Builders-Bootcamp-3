{
 "cells": [
  {
   "cell_type": "markdown",
   "id": "11c076dd-4e32-431c-9793-e0784197e3d1",
   "metadata": {},
   "source": [
    "# Fine-tuning GPT-4o to Write LinkedIn Posts (in my style)\n",
    "## ABB #2 - Session 5\n",
    "\n",
    "Code authored by: Shaw Talebi"
   ]
  },
  {
   "cell_type": "markdown",
   "id": "7c7812b7-9bb9-47da-8116-f6af553e18c5",
   "metadata": {},
   "source": [
    "### imports"
   ]
  },
  {
   "cell_type": "code",
   "execution_count": 1,
   "id": "8369ae91-d925-4ed1-9a85-32fb8e64a153",
   "metadata": {},
   "outputs": [],
   "source": [
    "import os\n",
    "import csv\n",
    "import json\n",
    "import random\n",
    "\n",
    "from openai import OpenAI\n",
    "from dotenv import load_dotenv"
   ]
  },
  {
   "cell_type": "code",
   "execution_count": 2,
   "id": "7f67fe3b-4926-4ece-b3d7-7e77fbf73a28",
   "metadata": {},
   "outputs": [],
   "source": [
    "# import sk from .env file\n",
    "load_dotenv()\n",
    "my_sk = os.getenv(\"OPENAI_API_KEY\")\n",
    "\n",
    "# connect to openai API\n",
    "client = OpenAI(api_key=my_sk)"
   ]
  },
  {
   "cell_type": "markdown",
   "id": "b67b2a2d-75c7-4913-b603-93127ece77fc",
   "metadata": {},
   "source": [
    "### Read data"
   ]
  },
  {
   "cell_type": "code",
   "execution_count": 3,
   "id": "4bc4f088-1331-4de4-a252-c60210479042",
   "metadata": {},
   "outputs": [],
   "source": [
    "# load csv of YouTube comments\n",
    "idea_list = []\n",
    "copy_list = []\n",
    "media_list = []\n",
    "\n",
    "with open('data/LI_posts.csv', mode ='r') as file:\n",
    "    file = csv.reader(file)\n",
    "    \n",
    "    # read file line by line\n",
    "    for line in file:\n",
    "        # skip first line\n",
    "        if line[0]=='Idea':\n",
    "            continue\n",
    "            \n",
    "        # append comments and responses to respective lists\n",
    "        idea_list.append(line[0])\n",
    "        copy_list.append(line[1])\n",
    "        media_list.append(line[2])"
   ]
  },
  {
   "cell_type": "code",
   "execution_count": 4,
   "id": "5bb3cc63-84cb-40ff-bc75-ad40447d46a3",
   "metadata": {},
   "outputs": [
    {
     "name": "stdout",
     "output_type": "stream",
     "text": [
      "50\n",
      "50\n",
      "50\n"
     ]
    }
   ],
   "source": [
    "print(len(idea_list))\n",
    "print(len(copy_list))\n",
    "print(len(media_list))"
   ]
  },
  {
   "cell_type": "markdown",
   "id": "9afd558b-b292-4582-a965-04ebeb46c403",
   "metadata": {},
   "source": [
    "### Create training examples"
   ]
  },
  {
   "cell_type": "code",
   "execution_count": 5,
   "id": "f6ed7112-b939-41d4-9fc2-077c9c85229a",
   "metadata": {},
   "outputs": [],
   "source": [
    "# construct training examples\n",
    "example_list = []\n",
    "\n",
    "system_prompt = \"LinkedIn Post Writer for Shaw Talebi, AI educator and entrepreneur\"\n",
    "\n",
    "prompt_template = lambda idea_string : f\"\"\"Write a LinkedIn post based on the following idea:\n",
    "{idea_string}\n",
    "\n",
    "Include:\n",
    "- A compelling opening line that hooks the reader\n",
    "- Copy that expands upon the idea in valuable way\n",
    "- A call to action or share relevant content\n",
    "\n",
    "Output:\n",
    "\"\"\"\n",
    "\n",
    "for i in range(len(idea_list)):    \n",
    "    system_dict = {\"role\": \"system\", \"content\": system_prompt}\n",
    "    user_dict = {\"role\": \"user\", \"content\": prompt_template(idea_list[i])}\n",
    "    assistant_dict = {\"role\": \"assistant\", \"content\": copy_list[i] + \"\\n\\n--\\nMedia: \" + media_list[i]}\n",
    "    \n",
    "    messages_list = [system_dict, user_dict, assistant_dict]\n",
    "    \n",
    "    example_list.append({\"messages\": messages_list})"
   ]
  },
  {
   "cell_type": "code",
   "execution_count": 6,
   "id": "1c847ac6-89de-413f-a7c4-854e9a514658",
   "metadata": {},
   "outputs": [
    {
     "name": "stdout",
     "output_type": "stream",
     "text": [
      "LinkedIn Post Writer for Shaw Talebi, AI educator and entrepreneur\n",
      "Write a LinkedIn post based on the following idea:\n",
      "3 types of AI Tik Tok\n",
      "\n",
      "Include:\n",
      "- A compelling opening line that hooks the reader\n",
      "- Copy that expands upon the idea in valuable way\n",
      "- A call to action or share relevant content\n",
      "\n",
      "Output:\n",
      "\n",
      "A problem with AI today is that it means different things to different people. \n",
      "\n",
      "This framework from Andrej Karpathy helped give me much more clarity 👇 \n",
      "\n",
      "Software 1.0 = Rule-based software systems. Humans program computers to solve problems step-by-step. \n",
      "\n",
      "Software 2.0 = Computers program themselves by seeing examples (i.e. machine learning) \n",
      "\n",
      "Software 3.0 = Repurposing general-purpose ML models for specific use cases (i.e. GenAI + Foundation Models) \n",
      "\n",
      "But… what’s Software 4.0 going to be? 🤔\n",
      "\n",
      "--\n",
      "Media: Video\n"
     ]
    }
   ],
   "source": [
    "print(example_list[0]['messages'][0]['content'])\n",
    "print(example_list[0]['messages'][1]['content'])\n",
    "print(example_list[0]['messages'][2]['content'])"
   ]
  },
  {
   "cell_type": "code",
   "execution_count": 7,
   "id": "daa80954-4589-4850-8b69-b2427828247b",
   "metadata": {},
   "outputs": [
    {
     "data": {
      "text/plain": [
       "50"
      ]
     },
     "execution_count": 7,
     "metadata": {},
     "output_type": "execute_result"
    }
   ],
   "source": [
    "len(example_list)"
   ]
  },
  {
   "cell_type": "markdown",
   "id": "39301b03-69be-4f2c-b7fd-44e17a22be2a",
   "metadata": {},
   "source": [
    "### Create train/validation split"
   ]
  },
  {
   "cell_type": "code",
   "execution_count": 8,
   "id": "6d43a2f6-b5b8-40c6-92c9-f4ac00c35643",
   "metadata": {},
   "outputs": [],
   "source": [
    "# randomly pick out validation examples\n",
    "num_examples = 10\n",
    "validation_index_list = random.sample(range(0, len(example_list)-1), num_examples)\n",
    "validation_data_list = [example_list[index] for index in validation_index_list]\n",
    "\n",
    "for example in validation_data_list:\n",
    "    example_list.remove(example)"
   ]
  },
  {
   "cell_type": "code",
   "execution_count": 9,
   "id": "7bf38b30-6c4e-4956-96e6-b7bc5f92423f",
   "metadata": {},
   "outputs": [
    {
     "name": "stdout",
     "output_type": "stream",
     "text": [
      "40\n",
      "10\n"
     ]
    }
   ],
   "source": [
    "print(len(example_list))\n",
    "print(len(validation_data_list))"
   ]
  },
  {
   "cell_type": "code",
   "execution_count": 10,
   "id": "09999da1-e0a4-4bee-949d-c31006dad700",
   "metadata": {},
   "outputs": [],
   "source": [
    "# write examples to file\n",
    "with open('data/train-data.jsonl', 'w') as train_file:\n",
    "    for example in example_list:\n",
    "        json.dump(example, train_file)\n",
    "        train_file.write('\\n')\n",
    "\n",
    "with open('data/valid-data.jsonl', 'w') as valid_file:\n",
    "    for example in validation_data_list:\n",
    "        json.dump(example, valid_file)\n",
    "        valid_file.write('\\n')"
   ]
  },
  {
   "cell_type": "markdown",
   "id": "ce1eb41d-f61b-493e-b2dc-1abc458ba9a4",
   "metadata": {},
   "source": [
    "### Upload data to OpenAI"
   ]
  },
  {
   "cell_type": "code",
   "execution_count": 11,
   "id": "4f3ff2b6-7530-48f9-837b-86000d7f72c6",
   "metadata": {},
   "outputs": [],
   "source": [
    "train_file = client.files.create(\n",
    "  file = open(\"data/train-data.jsonl\", \"rb\"),\n",
    "  purpose = \"fine-tune\"\n",
    ")\n",
    "\n",
    "valid_file = client.files.create(\n",
    "  file = open(\"data/valid-data.jsonl\", \"rb\"),\n",
    "  purpose = \"fine-tune\"\n",
    ")"
   ]
  },
  {
   "cell_type": "markdown",
   "id": "d753629d-45e5-4d0f-b0bd-0bef1c51062c",
   "metadata": {},
   "source": [
    "### Fine-tune model"
   ]
  },
  {
   "cell_type": "code",
   "execution_count": 24,
   "id": "88425464-a1ec-4230-a025-19f9a848a73a",
   "metadata": {},
   "outputs": [
    {
     "data": {
      "text/plain": [
       "FineTuningJob(id='ftjob-7DMn3tEj85tB7M9Ndp7P8a5J', created_at=1741302497, error=Error(code=None, message=None, param=None), fine_tuned_model=None, finished_at=None, hyperparameters=Hyperparameters(batch_size='auto', learning_rate_multiplier='auto', n_epochs='auto'), model='ft:gpt-4o-mini-2024-07-18:shawhin-talebi-ventures-llc:li-post-writer:B0uwdtNl', object='fine_tuning.job', organization_id='org-KjWERyZ9WLUqIdrdMeJh4zC0', result_files=[], seed=1090180453, status='validating_files', trained_tokens=None, training_file='file-CB3scQJZCELES9HWsRc1PX', validation_file='file-GjUq4kiKjV9wyur3caz6Wi', estimated_finish=None, integrations=[], method=Method(dpo=None, supervised=MethodSupervised(hyperparameters=MethodSupervisedHyperparameters(batch_size='auto', learning_rate_multiplier='auto', n_epochs='auto')), type='supervised'), user_provided_suffix='LI-post-writer', metadata=None)"
      ]
     },
     "execution_count": 24,
     "metadata": {},
     "output_type": "execute_result"
    }
   ],
   "source": [
    "client.fine_tuning.jobs.create(\n",
    "    training_file = train_file.id,\n",
    "    validation_file = valid_file.id,\n",
    "    suffix = \"LI-post-writer\",\n",
    "    model = \"gpt-4o-mini-2024-07-18\"\n",
    ")"
   ]
  },
  {
   "cell_type": "markdown",
   "id": "3c650e56-77a0-4a76-a52e-6d9194fb6278",
   "metadata": {},
   "source": [
    "### Evaluate fine-tuned model"
   ]
  },
  {
   "cell_type": "code",
   "execution_count": 13,
   "id": "dd26bc6e-7bee-45f2-88a2-e419de0fb762",
   "metadata": {},
   "outputs": [],
   "source": [
    "def generate_post(system_prompt, model_name, idea):\n",
    "    response = client.chat.completions.create(\n",
    "        model=model_name,\n",
    "        messages=[\n",
    "        {\"role\": \"system\", \"content\": system_prompt},\n",
    "        {\"role\": \"user\", \"content\": prompt_template(idea)}\n",
    "        ],\n",
    "        temperature=1,\n",
    "    )\n",
    "    return response.choices[0].message.content"
   ]
  },
  {
   "cell_type": "code",
   "execution_count": 15,
   "id": "7f5b4455-b219-4fee-95ec-d99ab052acbd",
   "metadata": {},
   "outputs": [],
   "source": [
    "idea = \"How I’d Learn AI in 2025 (If I Knew Nothing). Step 1: Use ChatGPT (or the like).Step 2: Install Python.Step 3: Build an Automation (Beginner).Step 4: Build an ML Project (Intermediate).Step 5: Build a Real-world Project (Advanced)Promote blog.\""
   ]
  },
  {
   "cell_type": "code",
   "execution_count": 16,
   "id": "17be2632-d9ee-44b9-9569-19e274f0709f",
   "metadata": {},
   "outputs": [
    {
     "name": "stdout",
     "output_type": "stream",
     "text": [
      "Ever wondered how to dive into AI from scratch in 2025? 🤔 Here's your roadmap to mastering the future, step by step.\n",
      "\n",
      "1. **Use AI's Own Tools**: Begin with ChatGPT or a similar conversational AI. They’re not just for questions—think of them as your code buddy, guiding you through concepts and debugging alongside you.\n",
      "\n",
      "2. **Install Python**: This isn't just about installing software; you're setting up the foundation. Python's versatility makes it indispensable in AI.\n",
      "\n",
      "3. **Build an Automation (Beginner)**: Start small. Automate a simple task. It's hands-on experience that makes all the difference. It’s your gateway into understanding logic and problem-solving.\n",
      "\n",
      "4. **Build an ML Project (Intermediate)**: Time to elevate your skills with machine learning. Dive into a project like sentiment analysis or a recommendation system. This is where you'll see algorithms in action.\n",
      "\n",
      "5. **Build a Real-World Project (Advanced)**: Finally, tackle a problem that resonates with you or your community. Whether it’s predicting trends or optimizing processes, real-world impact will be your best teacher.\n",
      "\n",
      "This roadmap isn't just theoretical—it's a practical guide to understanding the intricacies of AI by doing, creating, and solving.\n",
      "\n",
      "The journey of learning AI is continuous and exhilarating. Want to dive deeper into each step? I've shared more insights and resources over on my blog. Check it out and start your AI adventure today! [Insert Blog Link]\n",
      "\n",
      "Remember, the future belongs to the curious and the bold. 🚀 How would you start your AI journey in 2025? Share your thoughts below!\n"
     ]
    }
   ],
   "source": [
    "# GPT-4o (no fine-tuning)\n",
    "model_name = \"gpt-4o\"\n",
    "system_prompt_long = \"You are an AI assistant helping Shaw Talebi, an AI educator and entrepreneur, craft LinkedIn posts. Your goal is to generate posts \\\n",
    "that reflect Shaw Talebi's voice: authoritative yet approachable, insightful yet concise. Shaw Talebi's posts aim to educate and inspire professionals \\\n",
    "in the tech and AI space. Focus on providing value, discussing new trends, or offering actionable advice, while keeping the tone professional but \\\n",
    "conversational. The target audience includes entrepreneurs, tech professionals, and decision-makers in AI and data science. Always ensure the post is \\\n",
    "relevant, engaging, and on-brand for Shaw Talebi's public persona.\"\n",
    "\n",
    "# print(system_prompt_long, \"\\n--\")\n",
    "print(generate_post(system_prompt_long, model_name, idea))"
   ]
  },
  {
   "cell_type": "code",
   "execution_count": 27,
   "id": "5cc2e3fb-a692-47eb-87e8-4e9ae788f0ac",
   "metadata": {},
   "outputs": [
    {
     "name": "stdout",
     "output_type": "stream",
     "text": [
      "In 2025, this is how I’d learn AI… if I knew nothing 🤖 \n",
      "\n",
      "Step 1: Chat with ChatGPT (or the like) \n",
      "\n",
      "Step 2: Install Python \n",
      "\n",
      "Step 3: Build an Automation (Beginner) \n",
      "\n",
      "Step 4: Build an ML Project (Intermediate) \n",
      "\n",
      "Step 5: Build a Real-world Project (Advanced) \n",
      "\n",
      "I expanded this framework in a blog post https://lnkd.in/gubGdcNn \n",
      "\n",
      "Thanks to Towards Data Science for publishing this article (my 12th TDS article) \n",
      "\n",
      "#AI #machinelearning #python\n",
      "\n",
      "--\n",
      "Media: Blog link\n"
     ]
    }
   ],
   "source": [
    "# GPT-4o-mini (fine-tuned)\n",
    "model_name = \"ft:gpt-4o-mini-2024-07-18:shawhin-talebi-ventures-llc:li-post-writer:B8EjPxp8\"\n",
    "\n",
    "# print(system_prompt, \"\\n--\")\n",
    "print(generate_post(system_prompt, model_name, idea))"
   ]
  },
  {
   "cell_type": "code",
   "execution_count": 18,
   "id": "55c2cd55-477e-464f-8480-f9e354fb4341",
   "metadata": {},
   "outputs": [],
   "source": [
    "# # delete files (after fine-tuning is done)\n",
    "# client.files.delete(train_file.id)\n",
    "# client.files.delete(valid_file.id)"
   ]
  }
 ],
 "metadata": {
  "kernelspec": {
   "display_name": "Python 3 (ipykernel)",
   "language": "python",
   "name": "python3"
  },
  "language_info": {
   "codemirror_mode": {
    "name": "ipython",
    "version": 3
   },
   "file_extension": ".py",
   "mimetype": "text/x-python",
   "name": "python",
   "nbconvert_exporter": "python",
   "pygments_lexer": "ipython3",
   "version": "3.12.2"
  }
 },
 "nbformat": 4,
 "nbformat_minor": 5
}
