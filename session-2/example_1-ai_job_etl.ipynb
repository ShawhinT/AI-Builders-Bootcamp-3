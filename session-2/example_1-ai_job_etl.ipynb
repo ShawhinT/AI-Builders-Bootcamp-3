{
 "cells": [
  {
   "cell_type": "markdown",
   "id": "65c220dd-2f93-429e-9958-c0831dfbb344",
   "metadata": {},
   "source": [
    "# ETL Pipeline for AI Job Listings\n",
    "## ABB #3 - Session 2\n",
    "\n",
    "Code authored by: Shaw Talebi"
   ]
  },
  {
   "cell_type": "markdown",
   "id": "28990362-9001-47d9-ba80-c8e04ff2df5f",
   "metadata": {},
   "source": [
    "### imports"
   ]
  },
  {
   "cell_type": "code",
   "execution_count": 1,
   "id": "b3cdc754-3fa0-4349-a208-dfbfed478baa",
   "metadata": {},
   "outputs": [],
   "source": [
    "import pandas as pd\n",
    "import re\n",
    "import matplotlib.pyplot as plt"
   ]
  },
  {
   "cell_type": "markdown",
   "id": "e2500ed4-fa17-4698-8d29-fff2acc6a0e4",
   "metadata": {},
   "source": [
    "### Extract\n",
    "\n",
    "*Note: This step is done by **example_0-extract_job_data.py**, so here we just load the data from file.*"
   ]
  },
  {
   "cell_type": "code",
   "execution_count": 2,
   "id": "5c2769f9-2d28-44d7-8061-e430eb3663ea",
   "metadata": {},
   "outputs": [
    {
     "data": {
      "text/plain": [
       "(1179, 5)"
      ]
     },
     "execution_count": 2,
     "metadata": {},
     "output_type": "execute_result"
    }
   ],
   "source": [
    "# load .csv as dataframe\n",
    "df = pd.read_csv(\"data/job_data.csv\")\n",
    "df.shape"
   ]
  },
  {
   "cell_type": "code",
   "execution_count": 3,
   "id": "d4744cdb-6611-462e-b28b-1023dd5fe2f9",
   "metadata": {},
   "outputs": [
    {
     "data": {
      "text/html": [
       "<div>\n",
       "<style scoped>\n",
       "    .dataframe tbody tr th:only-of-type {\n",
       "        vertical-align: middle;\n",
       "    }\n",
       "\n",
       "    .dataframe tbody tr th {\n",
       "        vertical-align: top;\n",
       "    }\n",
       "\n",
       "    .dataframe thead th {\n",
       "        text-align: right;\n",
       "    }\n",
       "</style>\n",
       "<table border=\"1\" class=\"dataframe\">\n",
       "  <thead>\n",
       "    <tr style=\"text-align: right;\">\n",
       "      <th></th>\n",
       "      <th>company_name</th>\n",
       "      <th>job_title</th>\n",
       "      <th>job_description</th>\n",
       "      <th>job_url</th>\n",
       "      <th>search_query</th>\n",
       "    </tr>\n",
       "  </thead>\n",
       "  <tbody>\n",
       "    <tr>\n",
       "      <th>0</th>\n",
       "      <td>Chewy</td>\n",
       "      <td>Staff Data Scientist</td>\n",
       "      <td>&lt;p&gt;&lt;strong&gt;Our Opportunity:&lt;/strong&gt;&lt;/p&gt; &lt;p&gt;Do...</td>\n",
       "      <td>https://www.themuse.com/jobs/chewy/staff-data-...</td>\n",
       "      <td>Data Scientist</td>\n",
       "    </tr>\n",
       "    <tr>\n",
       "      <th>1</th>\n",
       "      <td>Chewy</td>\n",
       "      <td>Staff Data Scientist</td>\n",
       "      <td>&lt;p&gt;&lt;strong&gt;Our Opportunity:&lt;/strong&gt;&lt;/p&gt; &lt;p&gt;Do...</td>\n",
       "      <td>https://www.themuse.com/jobs/chewy/staff-data-...</td>\n",
       "      <td>Data Scientist</td>\n",
       "    </tr>\n",
       "    <tr>\n",
       "      <th>2</th>\n",
       "      <td>Capital One</td>\n",
       "      <td>Senior Data Scientist</td>\n",
       "      <td>&lt;p&gt;Locations: VA - McLean, United States of Am...</td>\n",
       "      <td>https://www.themuse.com/jobs/capitalone/senior...</td>\n",
       "      <td>Data Scientist</td>\n",
       "    </tr>\n",
       "    <tr>\n",
       "      <th>3</th>\n",
       "      <td>Capital One</td>\n",
       "      <td>Senior Data Scientist</td>\n",
       "      <td>&lt;p&gt;Locations: VA - McLean, United States of Am...</td>\n",
       "      <td>https://www.themuse.com/jobs/capitalone/senior...</td>\n",
       "      <td>Data Scientist</td>\n",
       "    </tr>\n",
       "    <tr>\n",
       "      <th>4</th>\n",
       "      <td>Deloitte</td>\n",
       "      <td>Sr. Data Scientist</td>\n",
       "      <td>&lt;p&gt;&lt;b&gt;Position Summary&lt;/b&gt;&lt;br&gt;&lt;br&gt;Do you want ...</td>\n",
       "      <td>https://www.themuse.com/jobs/deloitte/sr-data-...</td>\n",
       "      <td>Data Scientist</td>\n",
       "    </tr>\n",
       "  </tbody>\n",
       "</table>\n",
       "</div>"
      ],
      "text/plain": [
       "  company_name              job_title  \\\n",
       "0        Chewy  Staff Data Scientist    \n",
       "1        Chewy  Staff Data Scientist    \n",
       "2  Capital One  Senior Data Scientist   \n",
       "3  Capital One  Senior Data Scientist   \n",
       "4     Deloitte     Sr. Data Scientist   \n",
       "\n",
       "                                     job_description  \\\n",
       "0  <p><strong>Our Opportunity:</strong></p> <p>Do...   \n",
       "1  <p><strong>Our Opportunity:</strong></p> <p>Do...   \n",
       "2  <p>Locations: VA - McLean, United States of Am...   \n",
       "3  <p>Locations: VA - McLean, United States of Am...   \n",
       "4  <p><b>Position Summary</b><br><br>Do you want ...   \n",
       "\n",
       "                                             job_url    search_query  \n",
       "0  https://www.themuse.com/jobs/chewy/staff-data-...  Data Scientist  \n",
       "1  https://www.themuse.com/jobs/chewy/staff-data-...  Data Scientist  \n",
       "2  https://www.themuse.com/jobs/capitalone/senior...  Data Scientist  \n",
       "3  https://www.themuse.com/jobs/capitalone/senior...  Data Scientist  \n",
       "4  https://www.themuse.com/jobs/deloitte/sr-data-...  Data Scientist  "
      ]
     },
     "execution_count": 3,
     "metadata": {},
     "output_type": "execute_result"
    }
   ],
   "source": [
    "df.head()"
   ]
  },
  {
   "cell_type": "markdown",
   "id": "f8128416-c6ed-49a1-84fa-20950e760996",
   "metadata": {},
   "source": [
    "### Transform"
   ]
  },
  {
   "cell_type": "markdown",
   "id": "756c7b22-4df3-467d-8ded-385548ae9df0",
   "metadata": {},
   "source": [
    "#### drop duplicates"
   ]
  },
  {
   "cell_type": "code",
   "execution_count": 4,
   "id": "7ba42597-91c7-4877-8841-1e56cc5731fa",
   "metadata": {},
   "outputs": [
    {
     "name": "stdout",
     "output_type": "stream",
     "text": [
      "Original shape: (1179, 5)\n",
      "Duplicates dropped: (834, 5)\n"
     ]
    }
   ],
   "source": [
    "# drop duplicate JDs\n",
    "print(\"Original shape:\", df.shape)\n",
    "df = df.drop_duplicates(subset=\"job_description\")\n",
    "print(\"Duplicates dropped:\", df.shape)"
   ]
  },
  {
   "cell_type": "markdown",
   "id": "542c7bea-c240-4f7d-8449-a7db2fde7695",
   "metadata": {},
   "source": [
    "#### add features counting key distingushing skills for DS and MLE roles"
   ]
  },
  {
   "cell_type": "code",
   "execution_count": 5,
   "id": "a8c04bd4-3d3d-4679-ac51-7a4f47a491be",
   "metadata": {},
   "outputs": [],
   "source": [
    "# Preprocess job descriptions by converting to lowercase and removing HTML tags\n",
    "df['cleaned_description'] = df['job_description'].apply(lambda x: re.sub(r'<[^>]+>', '', str(x).lower()))"
   ]
  },
  {
   "cell_type": "code",
   "execution_count": 6,
   "id": "68cb9e1f-e66b-4ce4-9b54-2a98336985d7",
   "metadata": {},
   "outputs": [],
   "source": [
    "# Define keywords for data scientists and MLEs (initial broad list)\n",
    "ds_keywords = [\n",
    "    \"statistics\", \"data visualization\", \"sql\", \"pandas\", \"numpy\",\n",
    "    \"scikit-learn\", \"hypothesis testing\", \"eda\", \"a/b testing\", \"tableau\"\n",
    "]\n",
    "mle_keywords = [\n",
    "    \"deployment\", \"docker\", \"kubernetes\", \"api\", \"tensorflow\",\n",
    "    \"pytorch\", \"ci/cd\", \"aws\", \"gcp\", \"distributed computing\"\n",
    "]"
   ]
  },
  {
   "cell_type": "code",
   "execution_count": 7,
   "id": "e89e7fdd-3de3-42f9-a973-8315fcdb8a13",
   "metadata": {},
   "outputs": [],
   "source": [
    "# Create separate columns for each Data Scientist skill\n",
    "for skill in ds_keywords:\n",
    "    df[f'{skill}_count'] = df['cleaned_description'].apply(lambda desc: desc.count(skill))\n",
    "\n",
    "# Create separate columns for each Machine Learning Engineer skill\n",
    "for skill in mle_keywords:\n",
    "    df[f'{skill}_count'] = df['cleaned_description'].apply(lambda desc: desc.count(skill))"
   ]
  },
  {
   "cell_type": "code",
   "execution_count": 8,
   "id": "439f921c-6f9b-4081-bac0-67fee2c2ef39",
   "metadata": {
    "jupyter": {
     "source_hidden": true
    }
   },
   "outputs": [],
   "source": [
    "# # side-by-side comparison of individual skill count distributions\n",
    "# skill = \"kubernetes\"\n",
    "# j = df.columns.get_loc(f\"{skill}_count\")\n",
    "\n",
    "# plt.figure(figsize=(10, 6))\n",
    "\n",
    "# plt.subplot(1,2,1)\n",
    "# plt.title(\"Data Scientist\")\n",
    "# df[df[\"search_query\"]==\"Data Scientist\"].iloc[:,j].hist()\n",
    "\n",
    "# plt.subplot(1,2,2)\n",
    "# plt.title(\"Machine Learning Engineer\")\n",
    "# df[df[\"search_query\"]==\"Machine Learning Engineer\"].iloc[:,j].hist()\n",
    "\n",
    "# plt.show()"
   ]
  },
  {
   "cell_type": "markdown",
   "id": "7663a698-1c62-4d16-91d9-972413e45d5b",
   "metadata": {},
   "source": [
    "#### create target label"
   ]
  },
  {
   "cell_type": "code",
   "execution_count": 9,
   "id": "d34596f7-8930-4432-a5d6-0a7ad9f9b188",
   "metadata": {},
   "outputs": [],
   "source": [
    "df_transformed = df[df[\"search_query\"].isin([\"Data Scientist\", \"Machine Learning Engineer\"])].copy()\n",
    "df_transformed['is_data_scientist'] = df[\"search_query\"]== \"Data Scientist\""
   ]
  },
  {
   "cell_type": "code",
   "execution_count": 10,
   "id": "d0513801-5223-4b7e-862e-5a9efaad341e",
   "metadata": {},
   "outputs": [
    {
     "data": {
      "text/html": [
       "<div>\n",
       "<style scoped>\n",
       "    .dataframe tbody tr th:only-of-type {\n",
       "        vertical-align: middle;\n",
       "    }\n",
       "\n",
       "    .dataframe tbody tr th {\n",
       "        vertical-align: top;\n",
       "    }\n",
       "\n",
       "    .dataframe thead th {\n",
       "        text-align: right;\n",
       "    }\n",
       "</style>\n",
       "<table border=\"1\" class=\"dataframe\">\n",
       "  <thead>\n",
       "    <tr style=\"text-align: right;\">\n",
       "      <th></th>\n",
       "      <th>company_name</th>\n",
       "      <th>job_title</th>\n",
       "      <th>job_description</th>\n",
       "      <th>job_url</th>\n",
       "      <th>search_query</th>\n",
       "      <th>cleaned_description</th>\n",
       "      <th>statistics_count</th>\n",
       "      <th>data visualization_count</th>\n",
       "      <th>sql_count</th>\n",
       "      <th>pandas_count</th>\n",
       "      <th>...</th>\n",
       "      <th>docker_count</th>\n",
       "      <th>kubernetes_count</th>\n",
       "      <th>api_count</th>\n",
       "      <th>tensorflow_count</th>\n",
       "      <th>pytorch_count</th>\n",
       "      <th>ci/cd_count</th>\n",
       "      <th>aws_count</th>\n",
       "      <th>gcp_count</th>\n",
       "      <th>distributed computing_count</th>\n",
       "      <th>is_data_scientist</th>\n",
       "    </tr>\n",
       "  </thead>\n",
       "  <tbody>\n",
       "    <tr>\n",
       "      <th>0</th>\n",
       "      <td>Chewy</td>\n",
       "      <td>Staff Data Scientist</td>\n",
       "      <td>&lt;p&gt;&lt;strong&gt;Our Opportunity:&lt;/strong&gt;&lt;/p&gt; &lt;p&gt;Do...</td>\n",
       "      <td>https://www.themuse.com/jobs/chewy/staff-data-...</td>\n",
       "      <td>Data Scientist</td>\n",
       "      <td>our opportunity: do you want to build a model ...</td>\n",
       "      <td>2</td>\n",
       "      <td>0</td>\n",
       "      <td>1</td>\n",
       "      <td>0</td>\n",
       "      <td>...</td>\n",
       "      <td>0</td>\n",
       "      <td>0</td>\n",
       "      <td>0</td>\n",
       "      <td>0</td>\n",
       "      <td>0</td>\n",
       "      <td>0</td>\n",
       "      <td>1</td>\n",
       "      <td>1</td>\n",
       "      <td>0</td>\n",
       "      <td>True</td>\n",
       "    </tr>\n",
       "    <tr>\n",
       "      <th>2</th>\n",
       "      <td>Capital One</td>\n",
       "      <td>Senior Data Scientist</td>\n",
       "      <td>&lt;p&gt;Locations: VA - McLean, United States of Am...</td>\n",
       "      <td>https://www.themuse.com/jobs/capitalone/senior...</td>\n",
       "      <td>Data Scientist</td>\n",
       "      <td>locations: va - mclean, united states of ameri...</td>\n",
       "      <td>0</td>\n",
       "      <td>0</td>\n",
       "      <td>1</td>\n",
       "      <td>0</td>\n",
       "      <td>...</td>\n",
       "      <td>0</td>\n",
       "      <td>0</td>\n",
       "      <td>17</td>\n",
       "      <td>0</td>\n",
       "      <td>0</td>\n",
       "      <td>0</td>\n",
       "      <td>4</td>\n",
       "      <td>0</td>\n",
       "      <td>0</td>\n",
       "      <td>True</td>\n",
       "    </tr>\n",
       "    <tr>\n",
       "      <th>4</th>\n",
       "      <td>Deloitte</td>\n",
       "      <td>Sr. Data Scientist</td>\n",
       "      <td>&lt;p&gt;&lt;b&gt;Position Summary&lt;/b&gt;&lt;br&gt;&lt;br&gt;Do you want ...</td>\n",
       "      <td>https://www.themuse.com/jobs/deloitte/sr-data-...</td>\n",
       "      <td>Data Scientist</td>\n",
       "      <td>position summarydo you want to build your bran...</td>\n",
       "      <td>0</td>\n",
       "      <td>0</td>\n",
       "      <td>0</td>\n",
       "      <td>1</td>\n",
       "      <td>...</td>\n",
       "      <td>1</td>\n",
       "      <td>1</td>\n",
       "      <td>1</td>\n",
       "      <td>1</td>\n",
       "      <td>1</td>\n",
       "      <td>0</td>\n",
       "      <td>2</td>\n",
       "      <td>1</td>\n",
       "      <td>0</td>\n",
       "      <td>True</td>\n",
       "    </tr>\n",
       "    <tr>\n",
       "      <th>6</th>\n",
       "      <td>IBM</td>\n",
       "      <td>Associate Data Scientist</td>\n",
       "      <td>&lt;p&gt;Introduction&lt;br&gt;As a Data Scientist at IBM,...</td>\n",
       "      <td>https://www.themuse.com/jobs/ibm/associate-dat...</td>\n",
       "      <td>Data Scientist</td>\n",
       "      <td>introductionas a data scientist at ibm, you wi...</td>\n",
       "      <td>1</td>\n",
       "      <td>1</td>\n",
       "      <td>1</td>\n",
       "      <td>0</td>\n",
       "      <td>...</td>\n",
       "      <td>0</td>\n",
       "      <td>0</td>\n",
       "      <td>0</td>\n",
       "      <td>1</td>\n",
       "      <td>1</td>\n",
       "      <td>1</td>\n",
       "      <td>0</td>\n",
       "      <td>0</td>\n",
       "      <td>0</td>\n",
       "      <td>True</td>\n",
       "    </tr>\n",
       "    <tr>\n",
       "      <th>7</th>\n",
       "      <td>Constellation Brands</td>\n",
       "      <td>Senior Data Scientist</td>\n",
       "      <td>&lt;p&gt;&lt;b&gt;Job Description&lt;/b&gt;&lt;br&gt;&lt;br&gt;&lt;b&gt;About Cons...</td>\n",
       "      <td>https://www.themuse.com/jobs/constellationbran...</td>\n",
       "      <td>Data Scientist</td>\n",
       "      <td>job descriptionabout constellation brands if y...</td>\n",
       "      <td>0</td>\n",
       "      <td>1</td>\n",
       "      <td>1</td>\n",
       "      <td>0</td>\n",
       "      <td>...</td>\n",
       "      <td>0</td>\n",
       "      <td>0</td>\n",
       "      <td>0</td>\n",
       "      <td>0</td>\n",
       "      <td>0</td>\n",
       "      <td>0</td>\n",
       "      <td>1</td>\n",
       "      <td>0</td>\n",
       "      <td>0</td>\n",
       "      <td>True</td>\n",
       "    </tr>\n",
       "  </tbody>\n",
       "</table>\n",
       "<p>5 rows × 27 columns</p>\n",
       "</div>"
      ],
      "text/plain": [
       "           company_name                 job_title  \\\n",
       "0                 Chewy     Staff Data Scientist    \n",
       "2           Capital One     Senior Data Scientist   \n",
       "4              Deloitte        Sr. Data Scientist   \n",
       "6                   IBM  Associate Data Scientist   \n",
       "7  Constellation Brands     Senior Data Scientist   \n",
       "\n",
       "                                     job_description  \\\n",
       "0  <p><strong>Our Opportunity:</strong></p> <p>Do...   \n",
       "2  <p>Locations: VA - McLean, United States of Am...   \n",
       "4  <p><b>Position Summary</b><br><br>Do you want ...   \n",
       "6  <p>Introduction<br>As a Data Scientist at IBM,...   \n",
       "7  <p><b>Job Description</b><br><br><b>About Cons...   \n",
       "\n",
       "                                             job_url    search_query  \\\n",
       "0  https://www.themuse.com/jobs/chewy/staff-data-...  Data Scientist   \n",
       "2  https://www.themuse.com/jobs/capitalone/senior...  Data Scientist   \n",
       "4  https://www.themuse.com/jobs/deloitte/sr-data-...  Data Scientist   \n",
       "6  https://www.themuse.com/jobs/ibm/associate-dat...  Data Scientist   \n",
       "7  https://www.themuse.com/jobs/constellationbran...  Data Scientist   \n",
       "\n",
       "                                 cleaned_description  statistics_count  \\\n",
       "0  our opportunity: do you want to build a model ...                 2   \n",
       "2  locations: va - mclean, united states of ameri...                 0   \n",
       "4  position summarydo you want to build your bran...                 0   \n",
       "6  introductionas a data scientist at ibm, you wi...                 1   \n",
       "7  job descriptionabout constellation brands if y...                 0   \n",
       "\n",
       "   data visualization_count  sql_count  pandas_count  ...  docker_count  \\\n",
       "0                         0          1             0  ...             0   \n",
       "2                         0          1             0  ...             0   \n",
       "4                         0          0             1  ...             1   \n",
       "6                         1          1             0  ...             0   \n",
       "7                         1          1             0  ...             0   \n",
       "\n",
       "   kubernetes_count  api_count  tensorflow_count  pytorch_count  ci/cd_count  \\\n",
       "0                 0          0                 0              0            0   \n",
       "2                 0         17                 0              0            0   \n",
       "4                 1          1                 1              1            0   \n",
       "6                 0          0                 1              1            1   \n",
       "7                 0          0                 0              0            0   \n",
       "\n",
       "   aws_count  gcp_count  distributed computing_count  is_data_scientist  \n",
       "0          1          1                            0               True  \n",
       "2          4          0                            0               True  \n",
       "4          2          1                            0               True  \n",
       "6          0          0                            0               True  \n",
       "7          1          0                            0               True  \n",
       "\n",
       "[5 rows x 27 columns]"
      ]
     },
     "execution_count": 10,
     "metadata": {},
     "output_type": "execute_result"
    }
   ],
   "source": [
    "df_transformed.head()"
   ]
  },
  {
   "cell_type": "code",
   "execution_count": 11,
   "id": "6aad7c5d-e0f7-4a6c-b408-7f2a073de525",
   "metadata": {},
   "outputs": [
    {
     "data": {
      "text/plain": [
       "(341, 27)"
      ]
     },
     "execution_count": 11,
     "metadata": {},
     "output_type": "execute_result"
    }
   ],
   "source": [
    "df_transformed.shape"
   ]
  },
  {
   "cell_type": "markdown",
   "id": "2bf0795b-9bd3-4c99-8fad-7e1ac51f4030",
   "metadata": {},
   "source": [
    "### Load"
   ]
  },
  {
   "cell_type": "code",
   "execution_count": 12,
   "id": "d223d669-d723-4ab5-942f-80b0c79a4d9d",
   "metadata": {},
   "outputs": [],
   "source": [
    "# simply save data as a .csv file\n",
    "df_transformed.to_csv(\"data/job_data_transformed.csv\", index=False)"
   ]
  },
  {
   "cell_type": "code",
   "execution_count": null,
   "id": "21aa3f77-90ca-4c31-a3aa-ed974c949a22",
   "metadata": {},
   "outputs": [],
   "source": []
  }
 ],
 "metadata": {
  "kernelspec": {
   "display_name": "Python 3 (ipykernel)",
   "language": "python",
   "name": "python3"
  },
  "language_info": {
   "codemirror_mode": {
    "name": "ipython",
    "version": 3
   },
   "file_extension": ".py",
   "mimetype": "text/x-python",
   "name": "python",
   "nbconvert_exporter": "python",
   "pygments_lexer": "ipython3",
   "version": "3.12.2"
  }
 },
 "nbformat": 4,
 "nbformat_minor": 5
}
