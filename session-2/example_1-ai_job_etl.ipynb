{
 "cells": [
  {
   "cell_type": "markdown",
   "id": "65c220dd-2f93-429e-9958-c0831dfbb344",
   "metadata": {},
   "source": [
    "# ETL Pipeline for AI Job Listings\n",
    "## ABB #3 - Session 2\n",
    "\n",
    "Code authored by: Shaw Talebi"
   ]
  },
  {
   "cell_type": "markdown",
   "id": "28990362-9001-47d9-ba80-c8e04ff2df5f",
   "metadata": {},
   "source": [
    "### imports"
   ]
  },
  {
   "cell_type": "code",
   "execution_count": 1,
   "id": "b3cdc754-3fa0-4349-a208-dfbfed478baa",
   "metadata": {},
   "outputs": [],
   "source": [
    "import pandas as pd\n",
    "import re\n",
    "import matplotlib.pyplot as plt"
   ]
  },
  {
   "cell_type": "markdown",
   "id": "e2500ed4-fa17-4698-8d29-fff2acc6a0e4",
   "metadata": {},
   "source": [
    "### Extract\n",
    "\n",
    "*Note: This step is done by **example_0-extract_job_data.py**, so here we just load the data from file.*"
   ]
  },
  {
   "cell_type": "code",
   "execution_count": 2,
   "id": "5c2769f9-2d28-44d7-8061-e430eb3663ea",
   "metadata": {},
   "outputs": [
    {
     "data": {
      "text/plain": [
       "(1179, 5)"
      ]
     },
     "execution_count": 2,
     "metadata": {},
     "output_type": "execute_result"
    }
   ],
   "source": [
    "# load .csv as dataframe\n",
    "df = pd.read_csv(\"data/job_data.csv\")\n",
    "df.shape"
   ]
  },
  {
   "cell_type": "code",
   "execution_count": 3,
   "id": "d4744cdb-6611-462e-b28b-1023dd5fe2f9",
   "metadata": {},
   "outputs": [
    {
     "data": {
      "text/html": [
       "<div>\n",
       "<style scoped>\n",
       "    .dataframe tbody tr th:only-of-type {\n",
       "        vertical-align: middle;\n",
       "    }\n",
       "\n",
       "    .dataframe tbody tr th {\n",
       "        vertical-align: top;\n",
       "    }\n",
       "\n",
       "    .dataframe thead th {\n",
       "        text-align: right;\n",
       "    }\n",
       "</style>\n",
       "<table border=\"1\" class=\"dataframe\">\n",
       "  <thead>\n",
       "    <tr style=\"text-align: right;\">\n",
       "      <th></th>\n",
       "      <th>company_name</th>\n",
       "      <th>job_title</th>\n",
       "      <th>job_description</th>\n",
       "      <th>job_url</th>\n",
       "      <th>search_query</th>\n",
       "    </tr>\n",
       "  </thead>\n",
       "  <tbody>\n",
       "    <tr>\n",
       "      <th>0</th>\n",
       "      <td>Chewy</td>\n",
       "      <td>Staff Data Scientist</td>\n",
       "      <td>&lt;p&gt;&lt;strong&gt;Our Opportunity:&lt;/strong&gt;&lt;/p&gt; &lt;p&gt;Do...</td>\n",
       "      <td>https://www.themuse.com/jobs/chewy/staff-data-...</td>\n",
       "      <td>Data Scientist</td>\n",
       "    </tr>\n",
       "    <tr>\n",
       "      <th>1</th>\n",
       "      <td>Chewy</td>\n",
       "      <td>Staff Data Scientist</td>\n",
       "      <td>&lt;p&gt;&lt;strong&gt;Our Opportunity:&lt;/strong&gt;&lt;/p&gt; &lt;p&gt;Do...</td>\n",
       "      <td>https://www.themuse.com/jobs/chewy/staff-data-...</td>\n",
       "      <td>Data Scientist</td>\n",
       "    </tr>\n",
       "    <tr>\n",
       "      <th>2</th>\n",
       "      <td>Capital One</td>\n",
       "      <td>Senior Data Scientist</td>\n",
       "      <td>&lt;p&gt;Locations: VA - McLean, United States of Am...</td>\n",
       "      <td>https://www.themuse.com/jobs/capitalone/senior...</td>\n",
       "      <td>Data Scientist</td>\n",
       "    </tr>\n",
       "    <tr>\n",
       "      <th>3</th>\n",
       "      <td>Capital One</td>\n",
       "      <td>Senior Data Scientist</td>\n",
       "      <td>&lt;p&gt;Locations: VA - McLean, United States of Am...</td>\n",
       "      <td>https://www.themuse.com/jobs/capitalone/senior...</td>\n",
       "      <td>Data Scientist</td>\n",
       "    </tr>\n",
       "    <tr>\n",
       "      <th>4</th>\n",
       "      <td>Deloitte</td>\n",
       "      <td>Sr. Data Scientist</td>\n",
       "      <td>&lt;p&gt;&lt;b&gt;Position Summary&lt;/b&gt;&lt;br&gt;&lt;br&gt;Do you want ...</td>\n",
       "      <td>https://www.themuse.com/jobs/deloitte/sr-data-...</td>\n",
       "      <td>Data Scientist</td>\n",
       "    </tr>\n",
       "  </tbody>\n",
       "</table>\n",
       "</div>"
      ],
      "text/plain": [
       "  company_name              job_title  \\\n",
       "0        Chewy  Staff Data Scientist    \n",
       "1        Chewy  Staff Data Scientist    \n",
       "2  Capital One  Senior Data Scientist   \n",
       "3  Capital One  Senior Data Scientist   \n",
       "4     Deloitte     Sr. Data Scientist   \n",
       "\n",
       "                                     job_description  \\\n",
       "0  <p><strong>Our Opportunity:</strong></p> <p>Do...   \n",
       "1  <p><strong>Our Opportunity:</strong></p> <p>Do...   \n",
       "2  <p>Locations: VA - McLean, United States of Am...   \n",
       "3  <p>Locations: VA - McLean, United States of Am...   \n",
       "4  <p><b>Position Summary</b><br><br>Do you want ...   \n",
       "\n",
       "                                             job_url    search_query  \n",
       "0  https://www.themuse.com/jobs/chewy/staff-data-...  Data Scientist  \n",
       "1  https://www.themuse.com/jobs/chewy/staff-data-...  Data Scientist  \n",
       "2  https://www.themuse.com/jobs/capitalone/senior...  Data Scientist  \n",
       "3  https://www.themuse.com/jobs/capitalone/senior...  Data Scientist  \n",
       "4  https://www.themuse.com/jobs/deloitte/sr-data-...  Data Scientist  "
      ]
     },
     "execution_count": 3,
     "metadata": {},
     "output_type": "execute_result"
    }
   ],
   "source": [
    "df.head()"
   ]
  },
  {
   "cell_type": "markdown",
   "id": "f8128416-c6ed-49a1-84fa-20950e760996",
   "metadata": {},
   "source": [
    "### Transform"
   ]
  },
  {
   "cell_type": "markdown",
   "id": "756c7b22-4df3-467d-8ded-385548ae9df0",
   "metadata": {},
   "source": [
    "#### drop duplicates"
   ]
  },
  {
   "cell_type": "code",
   "execution_count": 4,
   "id": "7ba42597-91c7-4877-8841-1e56cc5731fa",
   "metadata": {},
   "outputs": [
    {
     "name": "stdout",
     "output_type": "stream",
     "text": [
      "Original shape: (1179, 5)\n",
      "Duplicates dropped: (834, 5)\n"
     ]
    }
   ],
   "source": [
    "# drop duplicate JDs\n",
    "print(\"Original shape:\", df.shape)\n",
    "df = df.drop_duplicates(subset=\"job_description\")\n",
    "print(\"Duplicates dropped:\", df.shape)"
   ]
  },
  {
   "cell_type": "markdown",
   "id": "542c7bea-c240-4f7d-8449-a7db2fde7695",
   "metadata": {},
   "source": [
    "#### add features counting key distingushing skills for DS and MLE roles"
   ]
  },
  {
   "cell_type": "code",
   "execution_count": 5,
   "id": "a8c04bd4-3d3d-4679-ac51-7a4f47a491be",
   "metadata": {},
   "outputs": [],
   "source": [
    "# Preprocess job descriptions by converting to lowercase and removing HTML tags\n",
    "df['cleaned_description'] = df['job_description'].apply(lambda x: re.sub(r'<[^>]+>', '', str(x).lower()))"
   ]
  },
  {
   "cell_type": "code",
   "execution_count": 6,
   "id": "68cb9e1f-e66b-4ce4-9b54-2a98336985d7",
   "metadata": {},
   "outputs": [],
   "source": [
    "# Define keywords for data scientists and MLEs (initial broad list)\n",
    "ds_keywords = [\n",
    "    \"statistics\", \"data visualization\", \"sql\", \"pandas\", \"numpy\",\n",
    "    \"scikit-learn\", \"hypothesis testing\", \"eda\", \"a/b testing\", \"tableau\"\n",
    "]\n",
    "mle_keywords = [\n",
    "    \"deployment\", \"docker\", \"kubernetes\", \"api\", \"tensorflow\",\n",
    "    \"pytorch\", \"ci/cd\", \"aws\", \"gcp\", \"distributed computing\"\n",
    "]"
   ]
  },
  {
   "cell_type": "code",
   "execution_count": 7,
   "id": "e89e7fdd-3de3-42f9-a973-8315fcdb8a13",
   "metadata": {},
   "outputs": [],
   "source": [
    "# Create separate columns for each Data Scientist skill\n",
    "for skill in ds_keywords:\n",
    "    df[f'{skill}_count'] = df['cleaned_description'].apply(lambda desc: desc.count(skill))\n",
    "\n",
    "# Create separate columns for each Machine Learning Engineer skill\n",
    "for skill in mle_keywords:\n",
    "    df[f'{skill}_count'] = df['cleaned_description'].apply(lambda desc: desc.count(skill))"
   ]
  },
  {
   "cell_type": "code",
   "execution_count": 8,
   "id": "439f921c-6f9b-4081-bac0-67fee2c2ef39",
   "metadata": {
    "jupyter": {
     "source_hidden": true
    }
   },
   "outputs": [
    {
     "data": {
      "image/png": "[encoded data removed]",
      "text/plain": [
       "<Figure size 1000x600 with 2 Axes>"
      ]
     },
     "metadata": {},
     "output_type": "display_data"
    }
   ],
   "source": [
    "# # side-by-side comparison of individual skill count distributions\n",
    "# skill = \"kubernetes\"\n",
    "# j = df.columns.get_loc(f\"{skill}_count\")\n",
    "\n",
    "# plt.figure(figsize=(10, 6))\n",
    "\n",
    "# plt.subplot(1,2,1)\n",
    "# plt.title(\"Data Scientist\")\n",
    "# df[df[\"search_query\"]==\"Data Scientist\"].iloc[:,j].hist()\n",
    "\n",
    "# plt.subplot(1,2,2)\n",
    "# plt.title(\"Machine Learning Engineer\")\n",
    "# df[df[\"search_query\"]==\"Machine Learning Engineer\"].iloc[:,j].hist()\n",
    "\n",
    "# plt.show()"
   ]
  },
  {
   "cell_type": "markdown",
   "id": "7663a698-1c62-4d16-91d9-972413e45d5b",
   "metadata": {},
   "source": [
    "#### create target label"
   ]
  },
  {
   "cell_type": "code",
   "execution_count": 9,
   "id": "d34596f7-8930-4432-a5d6-0a7ad9f9b188",
   "metadata": {},
   "outputs": [],
   "source": [
    "df_transformed = df[df[\"search_query\"].isin([\"Data Scientist\", \"Machine Learning Engineer\"])].copy()\n",
    "df_transformed['is_data_scientist'] = df[\"search_query\"]== \"Data Scientist\""
   ]
  },
  {
   "cell_type": "code",
   "execution_count": 13,
   "id": "d0513801-5223-4b7e-862e-5a9efaad341e",
   "metadata": {},
   "outputs": [
    {
     "data": {
      "text/html": [
       "<div>\n",
       "<style scoped>\n",
       "    .dataframe tbody tr th:only-of-type {\n",
       "        vertical-align: middle;\n",
       "    }\n",
       "\n",
       "    .dataframe tbody tr th {\n",
       "        vertical-align: top;\n",
       "    }\n",
       "\n",
       "    .dataframe thead th {\n",
       "        text-align: right;\n",
       "    }\n",
       "</style>\n",
       "<table border=\"1\" class=\"dataframe\">\n",
       "  <thead>\n",
       "    <tr style=\"text-align: right;\">\n",
       "      <th></th>\n",
       "      <th>company_name</th>\n",
       "      <th>job_title</th>\n",
       "      <th>job_description</th>\n",
       "      <th>job_url</th>\n",
       "      <th>search_query</th>\n",
       "      <th>cleaned_description</th>\n",
       "      <th>statistics_count</th>\n",
       "      <th>data visualization_count</th>\n",
       "      <th>sql_count</th>\n",
       "      <th>pandas_count</th>\n",
       "      <th>...</th>\n",
       "      <th>docker_count</th>\n",
       "      <th>kubernetes_count</th>\n",
       "      <th>api_count</th>\n",
       "      <th>tensorflow_count</th>\n",
       "      <th>pytorch_count</th>\n",
       "      <th>ci/cd_count</th>\n",
       "      <th>aws_count</th>\n",
       "      <th>gcp_count</th>\n",
       "      <th>distributed computing_count</th>\n",
       "      <th>is_data_scientist</th>\n",
       "    </tr>\n",
       "  </thead>\n",
       "  <tbody>\n",
       "    <tr>\n",
       "      <th>582</th>\n",
       "      <td>BlackLine</td>\n",
       "      <td>Principal Data Engineer</td>\n",
       "      <td>&lt;p&gt;&lt;strong&gt; Get to Know Us:&lt;/strong&gt;&lt;br&gt;&lt;br&gt;It...</td>\n",
       "      <td>https://www.themuse.com/jobs/blackline/princip...</td>\n",
       "      <td>Machine Learning Engineer</td>\n",
       "      <td>get to know us:it's fun to work in a company ...</td>\n",
       "      <td>0</td>\n",
       "      <td>1</td>\n",
       "      <td>3</td>\n",
       "      <td>0</td>\n",
       "      <td>...</td>\n",
       "      <td>1</td>\n",
       "      <td>1</td>\n",
       "      <td>0</td>\n",
       "      <td>0</td>\n",
       "      <td>0</td>\n",
       "      <td>0</td>\n",
       "      <td>1</td>\n",
       "      <td>0</td>\n",
       "      <td>0</td>\n",
       "      <td>False</td>\n",
       "    </tr>\n",
       "    <tr>\n",
       "      <th>583</th>\n",
       "      <td>Fidelity Investments</td>\n",
       "      <td>Principal GenAI Engineer (Asset Management Tec...</td>\n",
       "      <td>&lt;p&gt;&lt;b&gt;Job Description:&lt;/b&gt;&lt;br&gt;&lt;br&gt;&lt;b&gt;The Role&lt;...</td>\n",
       "      <td>https://www.themuse.com/jobs/fidelityinvestmen...</td>\n",
       "      <td>Machine Learning Engineer</td>\n",
       "      <td>job description:the roleyou are a seasoned sci...</td>\n",
       "      <td>0</td>\n",
       "      <td>0</td>\n",
       "      <td>0</td>\n",
       "      <td>0</td>\n",
       "      <td>...</td>\n",
       "      <td>0</td>\n",
       "      <td>0</td>\n",
       "      <td>0</td>\n",
       "      <td>0</td>\n",
       "      <td>0</td>\n",
       "      <td>0</td>\n",
       "      <td>0</td>\n",
       "      <td>0</td>\n",
       "      <td>0</td>\n",
       "      <td>False</td>\n",
       "    </tr>\n",
       "    <tr>\n",
       "      <th>584</th>\n",
       "      <td>EcoVadis</td>\n",
       "      <td>Engineering Manager - ML &amp; Data Scraping (F/M/D)</td>\n",
       "      <td>&lt;h3&gt;Company Description&lt;/h3&gt; &lt;p&gt;&lt;em&gt;Work smart...</td>\n",
       "      <td>https://www.themuse.com/jobs/ecovadis/engineer...</td>\n",
       "      <td>Machine Learning Engineer</td>\n",
       "      <td>company description work smart, have fun and m...</td>\n",
       "      <td>0</td>\n",
       "      <td>0</td>\n",
       "      <td>2</td>\n",
       "      <td>0</td>\n",
       "      <td>...</td>\n",
       "      <td>0</td>\n",
       "      <td>0</td>\n",
       "      <td>5</td>\n",
       "      <td>0</td>\n",
       "      <td>0</td>\n",
       "      <td>0</td>\n",
       "      <td>0</td>\n",
       "      <td>0</td>\n",
       "      <td>0</td>\n",
       "      <td>False</td>\n",
       "    </tr>\n",
       "    <tr>\n",
       "      <th>585</th>\n",
       "      <td>Adyen</td>\n",
       "      <td>Senior Engineering Manager - GenAI</td>\n",
       "      <td>&lt;p&gt;&lt;strong&gt;This is Adyen&lt;/strong&gt;&lt;/p&gt; &lt;p&gt;&lt;span...</td>\n",
       "      <td>https://www.themuse.com/jobs/adyen/senior-engi...</td>\n",
       "      <td>Machine Learning Engineer</td>\n",
       "      <td>this is adyen adyen provides payments, data, a...</td>\n",
       "      <td>1</td>\n",
       "      <td>0</td>\n",
       "      <td>0</td>\n",
       "      <td>1</td>\n",
       "      <td>...</td>\n",
       "      <td>0</td>\n",
       "      <td>0</td>\n",
       "      <td>0</td>\n",
       "      <td>1</td>\n",
       "      <td>1</td>\n",
       "      <td>0</td>\n",
       "      <td>0</td>\n",
       "      <td>0</td>\n",
       "      <td>0</td>\n",
       "      <td>False</td>\n",
       "    </tr>\n",
       "    <tr>\n",
       "      <th>587</th>\n",
       "      <td>Fetch Robotics</td>\n",
       "      <td>Software Engineer, Advanced</td>\n",
       "      <td>&lt;p&gt;&lt;strong&gt;Remote Work: No&lt;/strong&gt;&lt;br&gt;&lt;br&gt;&lt;st...</td>\n",
       "      <td>https://www.themuse.com/jobs/fetchrobotics/sof...</td>\n",
       "      <td>Machine Learning Engineer</td>\n",
       "      <td>remote work: nooverview: at zebra, we are a co...</td>\n",
       "      <td>0</td>\n",
       "      <td>1</td>\n",
       "      <td>0</td>\n",
       "      <td>0</td>\n",
       "      <td>...</td>\n",
       "      <td>0</td>\n",
       "      <td>0</td>\n",
       "      <td>0</td>\n",
       "      <td>0</td>\n",
       "      <td>0</td>\n",
       "      <td>0</td>\n",
       "      <td>0</td>\n",
       "      <td>0</td>\n",
       "      <td>0</td>\n",
       "      <td>False</td>\n",
       "    </tr>\n",
       "  </tbody>\n",
       "</table>\n",
       "<p>5 rows × 27 columns</p>\n",
       "</div>"
      ],
      "text/plain": [
       "             company_name                                          job_title  \\\n",
       "582             BlackLine                            Principal Data Engineer   \n",
       "583  Fidelity Investments  Principal GenAI Engineer (Asset Management Tec...   \n",
       "584              EcoVadis   Engineering Manager - ML & Data Scraping (F/M/D)   \n",
       "585                 Adyen                 Senior Engineering Manager - GenAI   \n",
       "587        Fetch Robotics                        Software Engineer, Advanced   \n",
       "\n",
       "                                       job_description  \\\n",
       "582  <p><strong> Get to Know Us:</strong><br><br>It...   \n",
       "583  <p><b>Job Description:</b><br><br><b>The Role<...   \n",
       "584  <h3>Company Description</h3> <p><em>Work smart...   \n",
       "585  <p><strong>This is Adyen</strong></p> <p><span...   \n",
       "587  <p><strong>Remote Work: No</strong><br><br><st...   \n",
       "\n",
       "                                               job_url  \\\n",
       "582  https://www.themuse.com/jobs/blackline/princip...   \n",
       "583  https://www.themuse.com/jobs/fidelityinvestmen...   \n",
       "584  https://www.themuse.com/jobs/ecovadis/engineer...   \n",
       "585  https://www.themuse.com/jobs/adyen/senior-engi...   \n",
       "587  https://www.themuse.com/jobs/fetchrobotics/sof...   \n",
       "\n",
       "                  search_query  \\\n",
       "582  Machine Learning Engineer   \n",
       "583  Machine Learning Engineer   \n",
       "584  Machine Learning Engineer   \n",
       "585  Machine Learning Engineer   \n",
       "587  Machine Learning Engineer   \n",
       "\n",
       "                                   cleaned_description  statistics_count  \\\n",
       "582   get to know us:it's fun to work in a company ...                 0   \n",
       "583  job description:the roleyou are a seasoned sci...                 0   \n",
       "584  company description work smart, have fun and m...                 0   \n",
       "585  this is adyen adyen provides payments, data, a...                 1   \n",
       "587  remote work: nooverview: at zebra, we are a co...                 0   \n",
       "\n",
       "     data visualization_count  sql_count  pandas_count  ...  docker_count  \\\n",
       "582                         1          3             0  ...             1   \n",
       "583                         0          0             0  ...             0   \n",
       "584                         0          2             0  ...             0   \n",
       "585                         0          0             1  ...             0   \n",
       "587                         1          0             0  ...             0   \n",
       "\n",
       "     kubernetes_count  api_count  tensorflow_count  pytorch_count  \\\n",
       "582                 1          0                 0              0   \n",
       "583                 0          0                 0              0   \n",
       "584                 0          5                 0              0   \n",
       "585                 0          0                 1              1   \n",
       "587                 0          0                 0              0   \n",
       "\n",
       "     ci/cd_count  aws_count  gcp_count  distributed computing_count  \\\n",
       "582            0          1          0                            0   \n",
       "583            0          0          0                            0   \n",
       "584            0          0          0                            0   \n",
       "585            0          0          0                            0   \n",
       "587            0          0          0                            0   \n",
       "\n",
       "     is_data_scientist  \n",
       "582              False  \n",
       "583              False  \n",
       "584              False  \n",
       "585              False  \n",
       "587              False  \n",
       "\n",
       "[5 rows x 27 columns]"
      ]
     },
     "execution_count": 13,
     "metadata": {},
     "output_type": "execute_result"
    }
   ],
   "source": [
    "df_transformed.tail()"
   ]
  },
  {
   "cell_type": "code",
   "execution_count": 11,
   "id": "6aad7c5d-e0f7-4a6c-b408-7f2a073de525",
   "metadata": {},
   "outputs": [
    {
     "data": {
      "text/plain": [
       "(341, 27)"
      ]
     },
     "execution_count": 11,
     "metadata": {},
     "output_type": "execute_result"
    }
   ],
   "source": [
    "df_transformed.shape"
   ]
  },
  {
   "cell_type": "markdown",
   "id": "2bf0795b-9bd3-4c99-8fad-7e1ac51f4030",
   "metadata": {},
   "source": [
    "### Load"
   ]
  },
  {
   "cell_type": "code",
   "execution_count": 12,
   "id": "d223d669-d723-4ab5-942f-80b0c79a4d9d",
   "metadata": {},
   "outputs": [],
   "source": [
    "# simply save data as a .csv file\n",
    "df_transformed.to_csv(\"data/job_data_transformed.csv\", index=False)"
   ]
  },
  {
   "cell_type": "code",
   "execution_count": null,
   "id": "21aa3f77-90ca-4c31-a3aa-ed974c949a22",
   "metadata": {},
   "outputs": [],
   "source": []
  }
 ],
 "metadata": {
  "kernelspec": {
   "display_name": "Python 3 (ipykernel)",
   "language": "python",
   "name": "python3"
  },
  "language_info": {
   "codemirror_mode": {
    "name": "ipython",
    "version": 3
   },
   "file_extension": ".py",
   "mimetype": "text/x-python",
   "name": "python",
   "nbconvert_exporter": "python",
   "pygments_lexer": "ipython3",
   "version": "3.12.2"
  }
 },
 "nbformat": 4,
 "nbformat_minor": 5
}
