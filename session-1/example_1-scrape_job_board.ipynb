{
 "cells": [
  {
   "cell_type": "markdown",
   "id": "3e8f4dea-f94e-4340-bb18-94cd357922f5",
   "metadata": {},
   "source": [
    "# Scraping AI Job Board with Python\n",
    "## ABB #3 - Session 1\n",
    "\n",
    "Code authored by: Shaw Talebi"
   ]
  },
  {
   "cell_type": "markdown",
   "id": "f869ca1f-065f-491e-8949-175c28cfaacb",
   "metadata": {},
   "source": [
    "### imports"
   ]
  },
  {
   "cell_type": "code",
   "execution_count": 1,
   "id": "c390282b-88ed-46a9-b73c-7fd15404740b",
   "metadata": {},
   "outputs": [],
   "source": [
    "import requests\n",
    "from bs4 import BeautifulSoup\n",
    "import json\n",
    "import pandas as pd"
   ]
  },
  {
   "cell_type": "markdown",
   "id": "87bd67c0-432b-4ac2-aaea-7ba59023bcbc",
   "metadata": {},
   "source": [
    "### 1) extract job listing links"
   ]
  },
  {
   "cell_type": "code",
   "execution_count": 2,
   "id": "3e3e782d-6069-4229-a33b-7bef4edf53c9",
   "metadata": {},
   "outputs": [],
   "source": [
    "# URL of the website\n",
    "job_board_url = \"https://aijobs.net/\"\n",
    "query = \"?reg=5\" # north america jobs\n",
    "\n",
    "# Send a GET request to the website\n",
    "response = requests.get(job_board_url + query)\n",
    "\n",
    "# Check if the request was successful\n",
    "if response.status_code == 200:\n",
    "    # Get the HTML content\n",
    "    html_content = response.text\n",
    "else:\n",
    "    print(f\"Failed to retrieve the page. Status code: {response.status_code}\")"
   ]
  },
  {
   "cell_type": "code",
   "execution_count": 3,
   "id": "e304ab1e-985f-4d8d-a214-fb2d0d39aca1",
   "metadata": {
    "scrolled": true
   },
   "outputs": [],
   "source": [
    "# Parse the HTML with BeautifulSoup\n",
    "soup = BeautifulSoup(html_content, 'html.parser')"
   ]
  },
  {
   "cell_type": "code",
   "execution_count": 4,
   "id": "98530b6e-a137-4a4b-8cb3-46cc7ee2c79b",
   "metadata": {},
   "outputs": [],
   "source": [
    "# Find all job links within the <ul> list\n",
    "job_links = soup.select('ul#job-list a.col.py-2[href]')\n",
    "\n",
    "# explanation from ChatGPT:\n",
    "# This selects all <a> tags with class col py-2 inside the <ul> element with id=\"job-list\""
   ]
  },
  {
   "cell_type": "code",
   "execution_count": 5,
   "id": "ca19bfc2-45ca-4b0c-ae92-d95e258d0208",
   "metadata": {
    "scrolled": true
   },
   "outputs": [
    {
     "name": "stdout",
     "output_type": "stream",
     "text": [
      "https://aijobs.net//job/993083-software-engineer-ii/\n",
      "https://aijobs.net//job/993082-signal-processing-software-engineer/\n",
      "https://aijobs.net//job/993076-senior-virtual-desktop-engineer/\n",
      "https://aijobs.net//job/993040-director-data-management-ndc/\n",
      "https://aijobs.net//job/993039-senior-clinical-data-management-manager/\n",
      "https://aijobs.net//job/993038-data-management-intern/\n",
      "https://aijobs.net//job/993000-inventory-data-specialist/\n",
      "https://aijobs.net//job/992994-sr-machine-learning-engineermachine-learning-engineer/\n",
      "https://aijobs.net//job/992986-summer-2025-data-analyst-intern-santa-clara-ca/\n",
      "https://aijobs.net//job/992982-lead-data-analyst/\n",
      "https://aijobs.net//job/992977-director-of-innovation-information-and-data-sciences/\n",
      "https://aijobs.net//job/992946-data-and-gift-specialist-i/\n",
      "https://aijobs.net//job/992909-specialist-coding-standards-and-data-quality-p2bi/\n",
      "https://aijobs.net//job/992869-senior-director-clinical-data-strategy-and-process-improvement/\n",
      "https://aijobs.net//job/992855-sr-business-intelligence-developer/\n",
      "https://aijobs.net//job/992849-senior-associate-director-data-science-data-governance/\n",
      "https://aijobs.net//job/992846-data-governance-analyst/\n",
      "https://aijobs.net//job/992838-senior-software-engineer-apis-and-data-pipelines/\n",
      "https://aijobs.net//job/992824-cno-developer/\n",
      "https://aijobs.net//job/992823-associate-director-catastrophe-analytics/\n",
      "https://aijobs.net//job/992822-senior-lead-analytics-consultant/\n",
      "https://aijobs.net//job/992821-credit-risk-management-risk-analytics-model-intern/\n",
      "https://aijobs.net//job/992820-senior-solution-consultant-usa/\n",
      "https://aijobs.net//job/992816-jr-business-intelligence-analystdeveloper/\n",
      "https://aijobs.net//job/992814-business-intelligence-analyst/\n",
      "https://aijobs.net//job/992811-software-engineer/\n",
      "https://aijobs.net//job/992808-director-of-advanced-insights/\n",
      "https://aijobs.net//job/992807-principal-dataapp-engineer-celonis/\n",
      "https://aijobs.net//job/992807-principal-dataapp-engineer-celonis/\n",
      "https://aijobs.net//job/992807-principal-dataapp-engineer-celonis/\n",
      "https://aijobs.net//job/992807-principal-dataapp-engineer-celonis/\n",
      "https://aijobs.net//job/992797-model-enablement-principal-engineer/\n",
      "https://aijobs.net//job/992796-principal-engineer-model-governance-and-oversight/\n",
      "https://aijobs.net//job/992792-systems-engineer-ai-project-manager/\n",
      "https://aijobs.net//job/992790-mechatronics-robotics-apprentice/\n",
      "https://aijobs.net//job/992761-head-of-bsaaml-data-strategy-execution-and-operations-business-execution-executive/\n",
      "https://aijobs.net//job/992760-head-of-bsaaml-customer-data-strategy-business-execution-director/\n",
      "https://aijobs.net//job/992744-healthcare-data-analyst/\n",
      "https://aijobs.net//job/992743-business-data-analyst/\n",
      "https://aijobs.net//job/992741-sr-data-analyst-sanctions-screening-center-of-excellence/\n",
      "https://aijobs.net//job/992737-data-analytics-intern-summer-2025/\n",
      "https://aijobs.net//job/992735-senior-business-analyst-data-analytics/\n",
      "https://aijobs.net//job/992734-lead-analytics-consultant-global-operations-data-analytics-and-reporting/\n",
      "https://aijobs.net//job/992732-health-policy-and-compliance-data-analyst/\n",
      "https://aijobs.net//job/992731-senior-data-analyst-secret-clearance-required-hybrid/\n",
      "https://aijobs.net//job/992717-data-engineer-product-data-analytics/\n",
      "https://aijobs.net//job/992708-data-engineer/\n",
      "https://aijobs.net//job/992707-principal-data-engineer-full-stack/\n",
      "https://aijobs.net//job/992705-senior-data-engineer/\n",
      "https://aijobs.net//job/992695-databricks-architect/\n"
     ]
    }
   ],
   "source": [
    "# Extract href attributes and create full URLs\n",
    "job_url_list = [job_board_url + link['href'] for link in job_links]\n",
    "\n",
    "for job_url in job_url_list:\n",
    "    print(job_url)"
   ]
  },
  {
   "cell_type": "markdown",
   "id": "1b6f1560-20e9-411e-a3b8-8f3c68b23864",
   "metadata": {},
   "source": [
    "### 2) extract info from one listing"
   ]
  },
  {
   "cell_type": "code",
   "execution_count": 6,
   "id": "27fe31d4-3407-4bab-87b8-43e9390ebd8d",
   "metadata": {},
   "outputs": [],
   "source": [
    "# extract html from job listing (same as cell 2)\n",
    "job_url = job_url_list[0]\n",
    "response = requests.get(job_url)\n",
    "html_content = response.text"
   ]
  },
  {
   "cell_type": "markdown",
   "id": "d0e6ce77-e815-45a0-ac27-e1ef06843a93",
   "metadata": {},
   "source": [
    "#### way 1: screen scraping "
   ]
  },
  {
   "cell_type": "code",
   "execution_count": 7,
   "id": "99ca15e1-f095-426a-a086-d7fa126e5a6c",
   "metadata": {},
   "outputs": [
    {
     "name": "stdout",
     "output_type": "stream",
     "text": [
      "Company Name: The Walt Disney Company\n",
      "Job Title: Software Engineer II\n",
      "Job Description: Job Posting Title:\n",
      "Software Engineer II\n",
      "Req ID:\n",
      "10110382\n",
      "Job Description:\n",
      "On any given day at Disney Entertainment & ESPN Technology, we’re reimagining ways to create magical viewing experiences for the world’s most beloved stories while also transforming our media business for the future. Whether that’s evolving our streaming and digital products in new and immersive ways, powering worldwide advertising and distribution to enhance flexibility and efficiency, or delivering Disney’s unmatched ent...\n",
      "Salary: USD 114K - 154K\n"
     ]
    }
   ],
   "source": [
    "# Parse the HTML\n",
    "soup = BeautifulSoup(html_content, 'html.parser')\n",
    "\n",
    "# Extract company name\n",
    "company_name = soup.find('h2', class_='h5').text.strip()\n",
    "\n",
    "# Extract job title\n",
    "job_title = soup.find('h1', class_='display-5').text.strip()\n",
    "\n",
    "# Extract job description\n",
    "job_description_section = soup.find('div', class_='job-description-text')\n",
    "job_description = job_description_section.get_text(separator='\\n').strip() if job_description_section else \"N/A\"\n",
    "\n",
    "# Extract salary range\n",
    "salary_badge = soup.find('span', class_='badge rounded-pill text-bg-success')\n",
    "salary_badge = soup.select('#content > section > div > div > div:nth-child(2) > div.col-6.col-sm-7 > h5 > span')\n",
    "salary = salary_badge[0].text.strip() if salary_badge else \"N/A\"\n",
    "\n",
    "# Print extracted details\n",
    "print(f\"Company Name: {company_name}\")\n",
    "print(f\"Job Title: {job_title}\")\n",
    "print(f\"Job Description: {job_description[:500]}...\")  # Truncate for readability\n",
    "print(f\"Salary: {salary}\")\n",
    "# downside: irregular salary format"
   ]
  },
  {
   "cell_type": "markdown",
   "id": "5363fb9c-e1fc-4948-9ea6-49f89e87dad1",
   "metadata": {},
   "source": [
    "#### way 2: pull json data"
   ]
  },
  {
   "cell_type": "code",
   "execution_count": 8,
   "id": "0172107a-3df1-416a-b920-c0265d3047f3",
   "metadata": {},
   "outputs": [
    {
     "name": "stdout",
     "output_type": "stream",
     "text": [
      "Company Name: The Walt Disney Company\n",
      "Job Title: Software Engineer II\n",
      "Job Description: Job Posting Title:Software Engineer IIReq ID:10110382Job Description:On any given day at Disney Entertainment &amp;amp; ESPN Technology, we’re reimagining ways to create magical viewing experiences for the world’s most beloved stories while also transforming our media business for the future. Whether that’s evolving our streaming and digital products in new and immersive ways, powering worldwide advertising and distribution to enhance flexibility and efficiency, or delivering Disney’s unmatched ...\n",
      "Salary Range: 114900 - 154100 USD\n"
     ]
    }
   ],
   "source": [
    "# Find the script tag containing JSON-LD\n",
    "script_tag = soup.find('script', type='application/ld+json')\n",
    "\n",
    "# Load the JSON content\n",
    "if script_tag:\n",
    "    job_data = json.loads(script_tag.string)\n",
    "\n",
    "    # Extract relevant fields\n",
    "    company_name = job_data['hiringOrganization']['name']\n",
    "    job_title = job_data['title']\n",
    "    job_description = job_data['description']\n",
    "    salary_min = job_data['baseSalary']['value']['minValue']\n",
    "    salary_max = job_data['baseSalary']['value']['maxValue']\n",
    "\n",
    "    # Print extracted data\n",
    "    print(f\"Company Name: {company_name}\")\n",
    "    print(f\"Job Title: {job_title}\")\n",
    "    print(f\"Job Description: {job_description[:500]}...\")\n",
    "    print(f\"Salary Range: {salary_min} - {salary_max} USD\")"
   ]
  },
  {
   "cell_type": "markdown",
   "id": "e1fd248d-03cc-4ca7-b66a-2147267d44c8",
   "metadata": {},
   "source": [
    "### 3) extract info from all listings"
   ]
  },
  {
   "cell_type": "code",
   "execution_count": 9,
   "id": "2a51046c-11de-4ebe-b023-eb09d95d9ab8",
   "metadata": {
    "jupyter": {
     "source_hidden": true
    }
   },
   "outputs": [],
   "source": [
    "# write function to implement way 2\n",
    "\n",
    "def extract_job_info(url):\n",
    "    \"\"\"\n",
    "    Extracts job information from a given job listing URL.\n",
    "\n",
    "    Args:\n",
    "        url (str): The URL of the job listing.\n",
    "\n",
    "    Returns:\n",
    "        dict: A dictionary containing the following key-value pairs:\n",
    "            - 'company_name' (str): Name of the hiring organization.\n",
    "            - 'job_title' (str): Title of the job.\n",
    "            - 'job_description' (str): Detailed description of the job.\n",
    "            - 'salary_min' (float or str): Minimum salary offered for the job.\n",
    "            - 'salary_max' (float or str): Maximum salary offered for the job.\n",
    "               Returns 'N/A' if salary information is unavailable.\n",
    "    \"\"\"\n",
    "    try:\n",
    "        # Fetch the HTML content of the job listing\n",
    "        response = requests.get(url)\n",
    "        response.raise_for_status()  # Raise an error for bad status codes\n",
    "        html_content = response.text\n",
    "        \n",
    "        # Parse the HTML with BeautifulSoup\n",
    "        soup = BeautifulSoup(html_content, 'html.parser')\n",
    "        \n",
    "        # Find the script tag containing JSON-LD\n",
    "        script_tag = soup.find('script', type='application/ld+json')\n",
    "        \n",
    "        if script_tag:\n",
    "            job_data = json.loads(script_tag.string)\n",
    "            \n",
    "            # Extract relevant fields with default values if not present\n",
    "            company_name = job_data.get('hiringOrganization', {}).get('name', 'N/A')\n",
    "            job_title = job_data.get('title', 'N/A')\n",
    "            job_description = job_data.get('description', 'N/A')\n",
    "            salary_data = job_data.get('baseSalary', {}).get('value', {})\n",
    "            salary_min = salary_data.get('minValue', 'N/A')\n",
    "            salary_max = salary_data.get('maxValue', 'N/A')\n",
    "            \n",
    "            return {\n",
    "                'company_name': company_name,\n",
    "                'job_title': job_title,\n",
    "                'job_description': job_description,\n",
    "                'salary_min': salary_min,\n",
    "                'salary_max': salary_max\n",
    "            }\n",
    "        else:\n",
    "            return {'error': 'No JSON-LD script found in the page'}\n",
    "    \n",
    "    except requests.RequestException as e:\n",
    "        return {'error': f\"Request failed: {e}\"}\n",
    "    \n",
    "    except json.JSONDecodeError:\n",
    "        return {'error': 'Failed to parse JSON-LD content'}\n",
    "    \n",
    "    except Exception as e:\n",
    "        return {'error': f\"An unexpected error occurred: {e}\"}"
   ]
  },
  {
   "cell_type": "code",
   "execution_count": 10,
   "id": "21d904f6-f86f-47c9-8b24-756fd69167ef",
   "metadata": {},
   "outputs": [
    {
     "name": "stdout",
     "output_type": "stream",
     "text": [
      "Software Engineer II\n",
      "Signal Processing Software Engineer\n",
      "Senior Virtual Desktop Engineer\n",
      "Director, Data Management NDC\n",
      "Senior Clinical Data Management Manager\n",
      "Data Management Intern\n",
      "Inventory Data Specialist\n",
      "Sr. Machine Learning Engineer/Machine Learning Engineer\n",
      "Summer 2025 Data Analyst Intern (Santa Clara, CA)\n",
      "Lead Data Analyst\n",
      "Director of Innovation - Information and Data Sciences\n",
      "Data and Gift Specialist I\n",
      "Specialist Coding Standards and Data Quality P2BI\n",
      "Senior Director, Clinical Data Strategy and Process Improvement\n",
      "Sr. Business Intelligence Developer\n",
      "Senior Associate Director, Data Science &amp; Data Governance\n",
      "Data Governance Analyst\n",
      "Senior Software Engineer – APIs and Data Pipelines\n",
      "CNO Developer\n",
      "Associate Director - Catastrophe Analytics\n",
      "Senior Lead Analytics Consultant\n",
      "Credit Risk Management-Risk Analytics Model Intern\n",
      "Senior Solution Consultant - USA\n",
      "Jr Business Intelligence Analyst/Developer\n",
      "Business Intelligence Analyst\n",
      "Software Engineer\n",
      "Director of Advanced Insights\n",
      "Principal Data/App Engineer (Celonis)\n",
      "Principal Data/App Engineer (Celonis)\n",
      "Principal Data/App Engineer (Celonis)\n",
      "Principal Data/App Engineer (Celonis)\n",
      "Model Enablement Principal Engineer\n",
      "Principal Engineer Model Governance and Oversight\n",
      "Systems Engineer - AI Project Manager\n",
      "Mechatronics &amp; Robotics Apprentice\n",
      "Head of BSA/AML Data Strategy, Execution and Operations, Business Execution Executive\n",
      "Head of BSA/AML Customer Data Strategy, Business Execution Director\n",
      "Healthcare Data Analyst\n",
      "Business Data Analyst\n",
      "Sr Data Analyst - Sanctions Screening Center of Excellence\n",
      "Data Analytics Intern - Summer 2025\n",
      "Senior Business Analyst - Data Analytics\n",
      "Lead Analytics Consultant - Global Operations Data Analytics and Reporting\n",
      "Health Policy and Compliance Data Analyst\n",
      "Senior Data Analyst- Secret Clearance Required (HYBRID)\n",
      "Data Engineer - Product Data Analytics\n",
      "Data Engineer\n",
      "Principal Data Engineer, Full Stack\n",
      "Senior Data Engineer\n",
      "Databricks Architect\n"
     ]
    }
   ],
   "source": [
    "# extract job info from all job urls\n",
    "job_info_list = []\n",
    "\n",
    "for job_url in job_url_list:\n",
    "    # extract job info\n",
    "    job_info = extract_job_info(job_url)\n",
    "\n",
    "    # store results in list if no errors occured\n",
    "    try:\n",
    "        print(job_info[\"job_title\"])\n",
    "        job_info_list.append(job_info)\n",
    "    except:\n",
    "        print(f\"Could not extract info from: {job_url}\")\n",
    "        continue"
   ]
  },
  {
   "cell_type": "markdown",
   "id": "a1e0fa43-3211-4801-a9c5-60155da726c7",
   "metadata": {},
   "source": [
    "### 4) Store data in Pandas dataframe"
   ]
  },
  {
   "cell_type": "code",
   "execution_count": 11,
   "id": "52d92b38-51dc-4b90-8af3-303eb23832c5",
   "metadata": {},
   "outputs": [
    {
     "data": {
      "text/html": [
       "<div>\n",
       "<style scoped>\n",
       "    .dataframe tbody tr th:only-of-type {\n",
       "        vertical-align: middle;\n",
       "    }\n",
       "\n",
       "    .dataframe tbody tr th {\n",
       "        vertical-align: top;\n",
       "    }\n",
       "\n",
       "    .dataframe thead th {\n",
       "        text-align: right;\n",
       "    }\n",
       "</style>\n",
       "<table border=\"1\" class=\"dataframe\">\n",
       "  <thead>\n",
       "    <tr style=\"text-align: right;\">\n",
       "      <th></th>\n",
       "      <th>company_name</th>\n",
       "      <th>job_title</th>\n",
       "      <th>job_description</th>\n",
       "      <th>salary_min</th>\n",
       "      <th>salary_max</th>\n",
       "    </tr>\n",
       "  </thead>\n",
       "  <tbody>\n",
       "    <tr>\n",
       "      <th>0</th>\n",
       "      <td>The Walt Disney Company</td>\n",
       "      <td>Software Engineer II</td>\n",
       "      <td>Job Posting Title:Software Engineer IIReq ID:1...</td>\n",
       "      <td>114900</td>\n",
       "      <td>154100</td>\n",
       "    </tr>\n",
       "    <tr>\n",
       "      <th>1</th>\n",
       "      <td>Leidos</td>\n",
       "      <td>Signal Processing Software Engineer</td>\n",
       "      <td>Do you want to join a high performing team tha...</td>\n",
       "      <td>67600</td>\n",
       "      <td>122200</td>\n",
       "    </tr>\n",
       "    <tr>\n",
       "      <th>2</th>\n",
       "      <td>Govcio LLC</td>\n",
       "      <td>Senior Virtual Desktop Engineer</td>\n",
       "      <td>Overview GovCIO is currently seeking a highly ...</td>\n",
       "      <td>N/A</td>\n",
       "      <td>N/A</td>\n",
       "    </tr>\n",
       "    <tr>\n",
       "      <th>3</th>\n",
       "      <td>Crinetics Pharmaceuticals</td>\n",
       "      <td>Director, Data Management NDC</td>\n",
       "      <td>Crinetics is a pharmaceutical company based in...</td>\n",
       "      <td>189000</td>\n",
       "      <td>236000</td>\n",
       "    </tr>\n",
       "    <tr>\n",
       "      <th>4</th>\n",
       "      <td>Crinetics Pharmaceuticals</td>\n",
       "      <td>Senior Clinical Data Management Manager</td>\n",
       "      <td>Crinetics is a pharmaceutical company based in...</td>\n",
       "      <td>114000</td>\n",
       "      <td>143000</td>\n",
       "    </tr>\n",
       "  </tbody>\n",
       "</table>\n",
       "</div>"
      ],
      "text/plain": [
       "                company_name                                job_title  \\\n",
       "0    The Walt Disney Company                     Software Engineer II   \n",
       "1                     Leidos      Signal Processing Software Engineer   \n",
       "2                 Govcio LLC          Senior Virtual Desktop Engineer   \n",
       "3  Crinetics Pharmaceuticals            Director, Data Management NDC   \n",
       "4  Crinetics Pharmaceuticals  Senior Clinical Data Management Manager   \n",
       "\n",
       "                                     job_description salary_min salary_max  \n",
       "0  Job Posting Title:Software Engineer IIReq ID:1...     114900     154100  \n",
       "1  Do you want to join a high performing team tha...      67600     122200  \n",
       "2  Overview GovCIO is currently seeking a highly ...        N/A        N/A  \n",
       "3  Crinetics is a pharmaceutical company based in...     189000     236000  \n",
       "4  Crinetics is a pharmaceutical company based in...     114000     143000  "
      ]
     },
     "execution_count": 11,
     "metadata": {},
     "output_type": "execute_result"
    }
   ],
   "source": [
    "df = pd.DataFrame(job_info_list)\n",
    "df.head()"
   ]
  },
  {
   "cell_type": "code",
   "execution_count": 12,
   "id": "b73e72fb-814d-4aa2-8041-cde73af282e4",
   "metadata": {},
   "outputs": [],
   "source": [
    "# save to file\n",
    "df.to_csv(\"data/ai_job_data.csv\", index=False)"
   ]
  },
  {
   "cell_type": "markdown",
   "id": "1968ba43-560f-4c07-8482-c4e258c188f5",
   "metadata": {},
   "source": [
    "#### Future directions\n",
    "- extract other fields from job listings e.g. tags, key skills\n",
    "- add filters to job search e.g. remote, Product, salary"
   ]
  },
  {
   "cell_type": "code",
   "execution_count": null,
   "id": "f382ffd9-e988-43d4-91e3-61dddaa66028",
   "metadata": {},
   "outputs": [],
   "source": []
  }
 ],
 "metadata": {
  "kernelspec": {
   "display_name": "Python 3 (ipykernel)",
   "language": "python",
   "name": "python3"
  },
  "language_info": {
   "codemirror_mode": {
    "name": "ipython",
    "version": 3
   },
   "file_extension": ".py",
   "mimetype": "text/x-python",
   "name": "python",
   "nbconvert_exporter": "python",
   "pygments_lexer": "ipython3",
   "version": "3.12.2"
  }
 },
 "nbformat": 4,
 "nbformat_minor": 5
}
