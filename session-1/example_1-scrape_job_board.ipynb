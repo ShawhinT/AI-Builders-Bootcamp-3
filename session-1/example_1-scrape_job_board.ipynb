{
 "cells": [
  {
   "cell_type": "markdown",
   "id": "3e8f4dea-f94e-4340-bb18-94cd357922f5",
   "metadata": {},
   "source": [
    "# Scraping AI Job Board with Python\n",
    "## ABB #3 - Session 1\n",
    "\n",
    "Code authored by: Shaw Talebi"
   ]
  },
  {
   "cell_type": "markdown",
   "id": "f869ca1f-065f-491e-8949-175c28cfaacb",
   "metadata": {},
   "source": [
    "### imports"
   ]
  },
  {
   "cell_type": "code",
   "execution_count": 1,
   "id": "c390282b-88ed-46a9-b73c-7fd15404740b",
   "metadata": {},
   "outputs": [],
   "source": [
    "import requests\n",
    "from bs4 import BeautifulSoup\n",
    "import json\n",
    "import pandas as pd"
   ]
  },
  {
   "cell_type": "markdown",
   "id": "87bd67c0-432b-4ac2-aaea-7ba59023bcbc",
   "metadata": {},
   "source": [
    "### 1) extract job listing links"
   ]
  },
  {
   "cell_type": "code",
   "execution_count": 2,
   "id": "3e3e782d-6069-4229-a33b-7bef4edf53c9",
   "metadata": {},
   "outputs": [],
   "source": [
    "# URL of the website\n",
    "job_board_url = \"https://aijobs.net\"\n",
    "query = \"/?reg=5\" # north america jobs\n",
    "\n",
    "# Send a GET request to the website\n",
    "response = requests.get(job_board_url + query)\n",
    "\n",
    "# Check if the request was successful\n",
    "if response.status_code == 200:\n",
    "    # Get the HTML content\n",
    "    html_content = response.text\n",
    "else:\n",
    "    print(f\"Failed to retrieve the page. Status code: {response.status_code}\")"
   ]
  },
  {
   "cell_type": "code",
   "execution_count": 3,
   "id": "e304ab1e-985f-4d8d-a214-fb2d0d39aca1",
   "metadata": {
    "scrolled": true
   },
   "outputs": [],
   "source": [
    "# Parse the HTML with BeautifulSoup\n",
    "soup = BeautifulSoup(html_content, 'html.parser')"
   ]
  },
  {
   "cell_type": "code",
   "execution_count": 4,
   "id": "98530b6e-a137-4a4b-8cb3-46cc7ee2c79b",
   "metadata": {},
   "outputs": [],
   "source": [
    "# Find all job links within the <ul> list\n",
    "job_links = soup.select('ul#job-list a.col.py-2[href]')\n",
    "\n",
    "# explanation from ChatGPT:\n",
    "# This selects all <a> tags with class col py-2 inside the <ul> element with id=\"job-list\""
   ]
  },
  {
   "cell_type": "code",
   "execution_count": 5,
   "id": "ca19bfc2-45ca-4b0c-ae92-d95e258d0208",
   "metadata": {
    "scrolled": true
   },
   "outputs": [
    {
     "name": "stdout",
     "output_type": "stream",
     "text": [
      "https://aijobs.net/job/998893-database-warehouse-analyst/\n",
      "https://aijobs.net/job/998888-executive-compensation-and-stock-analyst/\n",
      "https://aijobs.net/job/998878-senior-crm-and-loyalty-analyst/\n",
      "https://aijobs.net/job/998877-quantitative-analytics-prime-services/\n",
      "https://aijobs.net/job/998876-load-research-and-analysis-intern/\n",
      "https://aijobs.net/job/998875-rc-pricing-staff-ey-gds/\n",
      "https://aijobs.net/job/998874-senior-analyst-product-research-auto-product-design/\n",
      "https://aijobs.net/job/998870-fx-derivatives-quant/\n",
      "https://aijobs.net/job/998860-manager-ifrs-9-modelling-enterprise-stress-testing/\n",
      "https://aijobs.net/job/998856-data-solutions-architect/\n",
      "https://aijobs.net/job/998847-senior-nextjs-engineer/\n",
      "https://aijobs.net/job/998845-devops-solutions-engineer/\n",
      "https://aijobs.net/job/998843-application-developer/\n",
      "https://aijobs.net/job/998835-sr-customer-success-specialist/\n",
      "https://aijobs.net/job/998834-full-stack-developer-senior/\n",
      "https://aijobs.net/job/998833-geospatial-analyst-ii-skillbridge-eligible-opportunity/\n",
      "https://aijobs.net/job/998814-artificial-intelligence-ai-sme/\n",
      "https://aijobs.net/job/998813-software-engineer-robotics/\n",
      "https://aijobs.net/job/998806-ai-product-manager-gen-ai/\n",
      "https://aijobs.net/job/998797-marketing-bi-analyst-principal-sr/\n",
      "https://aijobs.net/job/998793-credit-strategy-decision-sciences/\n",
      "https://aijobs.net/job/998790-it-data-science/\n",
      "https://aijobs.net/job/998789-data-scientist/\n",
      "https://aijobs.net/job/998788-data-scientist-biologist-indianapolis-in/\n",
      "https://aijobs.net/job/998787-data-scientist/\n",
      "https://aijobs.net/job/998786-senior-quantitative-analyst-data-science/\n",
      "https://aijobs.net/job/998785-it-advisor-technology-con-ai-and-data-data-science-manager-multiple-positions-1580124/\n",
      "https://aijobs.net/job/998784-research-data-science-intern-2025/\n",
      "https://aijobs.net/job/998783-data-scientist-predictive-failure-analytics-ofse-st-houston/\n",
      "https://aijobs.net/job/998782-data-scientist-student-success/\n",
      "https://aijobs.net/job/998781-data-scientist-tssci-wpoly/\n",
      "https://aijobs.net/job/998779-director-data-science/\n",
      "https://aijobs.net/job/998777-director-data-science/\n",
      "https://aijobs.net/job/998773-data-scientist/\n",
      "https://aijobs.net/job/998772-data-scientist/\n",
      "https://aijobs.net/job/998692-senior-associate-data-engineer/\n",
      "https://aijobs.net/job/998688-data-engineer-summerfall-co-op/\n",
      "https://aijobs.net/job/998686-mid-level-data-engineer/\n",
      "https://aijobs.net/job/998685-senior-level-data-engineer/\n",
      "https://aijobs.net/job/998684-data-engineer/\n",
      "https://aijobs.net/job/998682-tax-services-manager-fso-tax-technology-transformation-edge-cryptodata-engineer/\n",
      "https://aijobs.net/job/998677-lead-architect-asset-servicing-data-engineering-and-technology/\n",
      "https://aijobs.net/job/998676-lead-client-delivery-asset-servicing-data-engineering-and-technology/\n",
      "https://aijobs.net/job/998675-senior-analytic-data-engineer/\n",
      "https://aijobs.net/job/998669-sr-business-intelligence-engineer/\n",
      "https://aijobs.net/job/998663-data-product-owner/\n",
      "https://aijobs.net/job/998649-kernel-software-engineer-aiml-gpu/\n",
      "https://aijobs.net/job/998648-medical-lab-scientist-mlsmtmlt-core-lab-centerville-resource/\n",
      "https://aijobs.net/job/998645-clsmlsmlt-clinical-lab-scientist-7-onoff-night-shift/\n",
      "https://aijobs.net/job/998644-dlo-group-lead-mlsmlt/\n"
     ]
    }
   ],
   "source": [
    "# Extract href attributes and create full URLs\n",
    "job_url_list = [job_board_url + link['href'] for link in job_links]\n",
    "\n",
    "for job_url in job_url_list:\n",
    "    print(job_url)"
   ]
  },
  {
   "cell_type": "markdown",
   "id": "1b6f1560-20e9-411e-a3b8-8f3c68b23864",
   "metadata": {},
   "source": [
    "### 2) extract info from one listing"
   ]
  },
  {
   "cell_type": "code",
   "execution_count": 6,
   "id": "27fe31d4-3407-4bab-87b8-43e9390ebd8d",
   "metadata": {},
   "outputs": [],
   "source": [
    "# extract html from job listing (same as cell 2)\n",
    "job_url = job_url_list[0]\n",
    "response = requests.get(job_url)\n",
    "html_content = response.text"
   ]
  },
  {
   "cell_type": "markdown",
   "id": "d0e6ce77-e815-45a0-ac27-e1ef06843a93",
   "metadata": {},
   "source": [
    "#### way 1: screen scraping "
   ]
  },
  {
   "cell_type": "code",
   "execution_count": 7,
   "id": "99ca15e1-f095-426a-a086-d7fa126e5a6c",
   "metadata": {},
   "outputs": [
    {
     "name": "stdout",
     "output_type": "stream",
     "text": [
      "Company Name: Taylor Corporation\n",
      "Job Title: Database Warehouse Analyst\n",
      "Job Description: Let Us Power Your Potential\n",
      "Taylor Corporation is a dynamic, diversified company with big plans for the future ― and your career. We power our employees’ potential and strive to create opportunity and security for every member of the team. If you’re ready for something bigger ― more challenge, more variety, more pathways for professional growth ― we should talk. We’re passionate about our work, we believe there is always a better way, and we’re looking for people like you.\n",
      "Ready to reach your po...\n",
      "Salary: N/A\n"
     ]
    }
   ],
   "source": [
    "# Parse the HTML\n",
    "soup = BeautifulSoup(html_content, 'html.parser')\n",
    "\n",
    "# Extract company name\n",
    "company_name = soup.find('h2', class_='h5').text.strip()\n",
    "\n",
    "# Extract job title\n",
    "job_title = soup.find('h1', class_='display-5').text.strip()\n",
    "\n",
    "# Extract job description\n",
    "job_description_section = soup.find('div', class_='job-description-text')\n",
    "job_description = job_description_section.get_text(separator='\\n').strip() if job_description_section else \"N/A\"\n",
    "\n",
    "# Extract salary range\n",
    "salary_badge = soup.find('span', class_='badge rounded-pill text-bg-success')\n",
    "salary_badge = soup.select('#content > section > div > div > div:nth-child(2) > div.col-6.col-sm-7 > h5 > span')\n",
    "salary = salary_badge[0].text.strip() if salary_badge else \"N/A\"\n",
    "\n",
    "# Print extracted details\n",
    "print(f\"Company Name: {company_name}\")\n",
    "print(f\"Job Title: {job_title}\")\n",
    "print(f\"Job Description: {job_description[:500]}...\")  # Truncate for readability\n",
    "print(f\"Salary: {salary}\")\n",
    "# downside: irregular salary format"
   ]
  },
  {
   "cell_type": "markdown",
   "id": "5363fb9c-e1fc-4948-9ea6-49f89e87dad1",
   "metadata": {},
   "source": [
    "#### way 2: pull json data"
   ]
  },
  {
   "cell_type": "code",
   "execution_count": 8,
   "id": "0172107a-3df1-416a-b920-c0265d3047f3",
   "metadata": {},
   "outputs": [
    {
     "name": "stdout",
     "output_type": "stream",
     "text": [
      "Company Name: Taylor Corporation\n",
      "Job Title: Database Warehouse Analyst\n",
      "Job Description: Let Us Power Your PotentialTaylor Corporation is a dynamic, diversified company with big plans for the future ― and your career. We power our employees’ potential and strive to create opportunity and security for every member of the team. If you’re ready for something bigger ― more challenge, more variety, more pathways for professional growth ― we should talk. We’re passionate about our work, we believe there is always a better way, and we’re looking for people like you.Ready to reach your pote...\n",
      "Salary Range: 54978 - 102102 USD\n"
     ]
    }
   ],
   "source": [
    "# Find the script tag containing JSON-LD\n",
    "script_tag = soup.find('script', type='application/ld+json')\n",
    "\n",
    "# Load the JSON content\n",
    "if script_tag:\n",
    "    job_data = json.loads(script_tag.string)\n",
    "\n",
    "    # Extract relevant fields\n",
    "    company_name = job_data['hiringOrganization']['name']\n",
    "    job_title = job_data['title']\n",
    "    job_description = job_data['description']\n",
    "    salary_min = job_data['baseSalary']['value']['minValue']\n",
    "    salary_max = job_data['baseSalary']['value']['maxValue']\n",
    "\n",
    "    # Print extracted data\n",
    "    print(f\"Company Name: {company_name}\")\n",
    "    print(f\"Job Title: {job_title}\")\n",
    "    print(f\"Job Description: {job_description[:500]}...\")\n",
    "    print(f\"Salary Range: {salary_min} - {salary_max} USD\")"
   ]
  },
  {
   "cell_type": "markdown",
   "id": "e1fd248d-03cc-4ca7-b66a-2147267d44c8",
   "metadata": {},
   "source": [
    "### 3) extract info from all listings"
   ]
  },
  {
   "cell_type": "code",
   "execution_count": 9,
   "id": "2a51046c-11de-4ebe-b023-eb09d95d9ab8",
   "metadata": {
    "jupyter": {
     "source_hidden": true
    }
   },
   "outputs": [],
   "source": [
    "# write function to implement way 2\n",
    "\n",
    "def extract_job_info(url):\n",
    "    \"\"\"\n",
    "    Extracts job information from a given job listing URL.\n",
    "\n",
    "    Args:\n",
    "        url (str): The URL of the job listing.\n",
    "\n",
    "    Returns:\n",
    "        dict: A dictionary containing the following key-value pairs:\n",
    "            - 'company_name' (str): Name of the hiring organization.\n",
    "            - 'job_title' (str): Title of the job.\n",
    "            - 'job_description' (str): Detailed description of the job.\n",
    "            - 'salary_min' (float or str): Minimum salary offered for the job.\n",
    "            - 'salary_max' (float or str): Maximum salary offered for the job.\n",
    "               Returns 'N/A' if salary information is unavailable.\n",
    "    \"\"\"\n",
    "    try:\n",
    "        # Fetch the HTML content of the job listing\n",
    "        response = requests.get(url)\n",
    "        response.raise_for_status()  # Raise an error for bad status codes\n",
    "        html_content = response.text\n",
    "        \n",
    "        # Parse the HTML with BeautifulSoup\n",
    "        soup = BeautifulSoup(html_content, 'html.parser')\n",
    "        \n",
    "        # Find the script tag containing JSON-LD\n",
    "        script_tag = soup.find('script', type='application/ld+json')\n",
    "        \n",
    "        if script_tag:\n",
    "            job_data = json.loads(script_tag.string)\n",
    "            \n",
    "            # Extract relevant fields with default values if not present\n",
    "            company_name = job_data.get('hiringOrganization', {}).get('name', 'N/A')\n",
    "            job_title = job_data.get('title', 'N/A')\n",
    "            job_description = job_data.get('description', 'N/A')\n",
    "            salary_data = job_data.get('baseSalary', {}).get('value', {})\n",
    "            salary_min = salary_data.get('minValue', 'N/A')\n",
    "            salary_max = salary_data.get('maxValue', 'N/A')\n",
    "            \n",
    "            return {\n",
    "                'company_name': company_name,\n",
    "                'job_title': job_title,\n",
    "                'job_description': job_description,\n",
    "                'salary_min': salary_min,\n",
    "                'salary_max': salary_max\n",
    "            }\n",
    "        else:\n",
    "            return {'error': 'No JSON-LD script found in the page'}\n",
    "    \n",
    "    except requests.RequestException as e:\n",
    "        return {'error': f\"Request failed: {e}\"}\n",
    "    \n",
    "    except json.JSONDecodeError:\n",
    "        return {'error': 'Failed to parse JSON-LD content'}\n",
    "    \n",
    "    except Exception as e:\n",
    "        return {'error': f\"An unexpected error occurred: {e}\"}"
   ]
  },
  {
   "cell_type": "code",
   "execution_count": 10,
   "id": "21d904f6-f86f-47c9-8b24-756fd69167ef",
   "metadata": {},
   "outputs": [
    {
     "name": "stdout",
     "output_type": "stream",
     "text": [
      "Database Warehouse Analyst\n",
      "Executive Compensation and Stock Analyst\n",
      "Senior CRM and Loyalty Analyst\n",
      "Quantitative Analytics Prime Services\n",
      "Load Research and Analysis Intern\n",
      "RC - Pricing - Staff - EY GDS\n",
      "Senior Analyst, Product Research, Auto Product Design\n",
      "FX Derivatives Quant\n",
      "Manager, IFRS 9 Modelling - Enterprise Stress Testing\n",
      "Data Solutions Architect\n",
      "Senior Next.js Engineer\n",
      "DevOps Solutions Engineer\n",
      "Application developer\n",
      "Sr. Customer Success Specialist\n",
      "Full Stack Developer (Senior)\n",
      "Geospatial Analyst II - SkillBridge Eligible Opportunity\n",
      "Artificial Intelligence (AI) - (SME)\n",
      "Software Engineer, Robotics\n",
      "AI Product Manager: Gen AI\n",
      "Marketing BI Analyst, Principal, Sr\n",
      "Credit Strategy, Decision Sciences\n",
      "IT Data Science\n",
      "Could not extract info from: https://aijobs.net/job/998789-data-scientist/\n",
      "Data Scientist - Biologist - Indianapolis, IN\n",
      "Data Scientist\n",
      "Senior Quantitative Analyst, Data Science\n",
      "IT Advisor - Technology Con - AI and Data - Data Science - Manager - Multiple Positions - 1580124\n",
      "Research Data Science Intern 2025\n",
      "Data Scientist - Predictive Failure Analytics (OFSE-ST) Houston\n",
      "Data Scientist (Student Success)\n",
      "Data Scientist - TS/SCI w/Poly\n",
      "Director, Data Science\n",
      "Director, Data Science\n",
      "Data Scientist\n",
      "Data Scientist\n",
      "Senior Associate Data Engineer\n",
      "Data Engineer - Summer/Fall Co-Op\n",
      "Mid-Level Data Engineer\n",
      "Senior-Level Data Engineer\n",
      "Data Engineer\n",
      "Tax Services Manager - FSO - Tax Technology &amp; Transformation, EDGE Crypto/Data Engineer\n",
      "Lead Architect, Asset Servicing Data Engineering and Technology\n",
      "Lead, Client Delivery Asset Servicing Data Engineering and Technology\n",
      "Senior Analytic Data Engineer\n",
      "Sr. Business Intelligence Engineer\n",
      "Data Product Owner\n",
      "Kernel Software Engineer - AI/ML GPU\n",
      "Medical Lab Scientist (MLS/MT/MLT) - Core Lab - Centerville - Resource\n",
      "CLS/MLS/MLT Clinical Lab Scientist, 7 on/off, Night Shift\n",
      "DLO Group Lead MLS/MLT\n"
     ]
    }
   ],
   "source": [
    "# extract job info from all job urls\n",
    "job_info_list = []\n",
    "\n",
    "for job_url in job_url_list:\n",
    "    # extract job info\n",
    "    job_info = extract_job_info(job_url)\n",
    "\n",
    "    # store results in list if no errors occured\n",
    "    try:\n",
    "        print(job_info[\"job_title\"])\n",
    "        job_info_list.append(job_info)\n",
    "    except:\n",
    "        print(f\"Could not extract info from: {job_url}\")\n",
    "        continue"
   ]
  },
  {
   "cell_type": "markdown",
   "id": "a1e0fa43-3211-4801-a9c5-60155da726c7",
   "metadata": {},
   "source": [
    "### 4) Store data in Pandas dataframe"
   ]
  },
  {
   "cell_type": "code",
   "execution_count": 11,
   "id": "52d92b38-51dc-4b90-8af3-303eb23832c5",
   "metadata": {},
   "outputs": [
    {
     "data": {
      "text/html": [
       "<div>\n",
       "<style scoped>\n",
       "    .dataframe tbody tr th:only-of-type {\n",
       "        vertical-align: middle;\n",
       "    }\n",
       "\n",
       "    .dataframe tbody tr th {\n",
       "        vertical-align: top;\n",
       "    }\n",
       "\n",
       "    .dataframe thead th {\n",
       "        text-align: right;\n",
       "    }\n",
       "</style>\n",
       "<table border=\"1\" class=\"dataframe\">\n",
       "  <thead>\n",
       "    <tr style=\"text-align: right;\">\n",
       "      <th></th>\n",
       "      <th>company_name</th>\n",
       "      <th>job_title</th>\n",
       "      <th>job_description</th>\n",
       "      <th>salary_min</th>\n",
       "      <th>salary_max</th>\n",
       "    </tr>\n",
       "  </thead>\n",
       "  <tbody>\n",
       "    <tr>\n",
       "      <th>0</th>\n",
       "      <td>Taylor Corporation</td>\n",
       "      <td>Database Warehouse Analyst</td>\n",
       "      <td>Let Us Power Your PotentialTaylor Corporation ...</td>\n",
       "      <td>54978</td>\n",
       "      <td>102102</td>\n",
       "    </tr>\n",
       "    <tr>\n",
       "      <th>1</th>\n",
       "      <td>8x8</td>\n",
       "      <td>Executive Compensation and Stock Analyst</td>\n",
       "      <td>8x8, Inc. (NASDAQ: EGHT) believes that CX limi...</td>\n",
       "      <td>138000</td>\n",
       "      <td>230000</td>\n",
       "    </tr>\n",
       "    <tr>\n",
       "      <th>2</th>\n",
       "      <td>Cracker Barrel</td>\n",
       "      <td>Senior CRM and Loyalty Analyst</td>\n",
       "      <td>WHY CRACKER BARRELWhat is it like to work at C...</td>\n",
       "      <td>82467</td>\n",
       "      <td>153153</td>\n",
       "    </tr>\n",
       "    <tr>\n",
       "      <th>3</th>\n",
       "      <td>Barclays</td>\n",
       "      <td>Quantitative Analytics Prime Services</td>\n",
       "      <td>Job DescriptionPurpose of the roleTo provide q...</td>\n",
       "      <td>125000</td>\n",
       "      <td>175000</td>\n",
       "    </tr>\n",
       "    <tr>\n",
       "      <th>4</th>\n",
       "      <td>Xcel Energy</td>\n",
       "      <td>Load Research and Analysis Intern</td>\n",
       "      <td>Are you looking for an exciting job where you ...</td>\n",
       "      <td>N/A</td>\n",
       "      <td>N/A</td>\n",
       "    </tr>\n",
       "  </tbody>\n",
       "</table>\n",
       "</div>"
      ],
      "text/plain": [
       "         company_name                                 job_title  \\\n",
       "0  Taylor Corporation                Database Warehouse Analyst   \n",
       "1                 8x8  Executive Compensation and Stock Analyst   \n",
       "2      Cracker Barrel            Senior CRM and Loyalty Analyst   \n",
       "3            Barclays     Quantitative Analytics Prime Services   \n",
       "4         Xcel Energy         Load Research and Analysis Intern   \n",
       "\n",
       "                                     job_description salary_min salary_max  \n",
       "0  Let Us Power Your PotentialTaylor Corporation ...      54978     102102  \n",
       "1  8x8, Inc. (NASDAQ: EGHT) believes that CX limi...     138000     230000  \n",
       "2  WHY CRACKER BARRELWhat is it like to work at C...      82467     153153  \n",
       "3  Job DescriptionPurpose of the roleTo provide q...     125000     175000  \n",
       "4  Are you looking for an exciting job where you ...        N/A        N/A  "
      ]
     },
     "execution_count": 11,
     "metadata": {},
     "output_type": "execute_result"
    }
   ],
   "source": [
    "df = pd.DataFrame(job_info_list)\n",
    "df.head()"
   ]
  },
  {
   "cell_type": "code",
   "execution_count": 12,
   "id": "b73e72fb-814d-4aa2-8041-cde73af282e4",
   "metadata": {},
   "outputs": [],
   "source": [
    "# save to file\n",
    "df.to_csv(\"data/ai_job_data.csv\", index=False)"
   ]
  },
  {
   "cell_type": "markdown",
   "id": "1968ba43-560f-4c07-8482-c4e258c188f5",
   "metadata": {},
   "source": [
    "#### Future directions\n",
    "- extract other fields from job listings e.g. tags, key skills\n",
    "- add filters to job search e.g. remote, Product, salary"
   ]
  },
  {
   "cell_type": "code",
   "execution_count": null,
   "id": "f382ffd9-e988-43d4-91e3-61dddaa66028",
   "metadata": {},
   "outputs": [],
   "source": []
  }
 ],
 "metadata": {
  "kernelspec": {
   "display_name": "Python 3 (ipykernel)",
   "language": "python",
   "name": "python3"
  },
  "language_info": {
   "codemirror_mode": {
    "name": "ipython",
    "version": 3
   },
   "file_extension": ".py",
   "mimetype": "text/x-python",
   "name": "python",
   "nbconvert_exporter": "python",
   "pygments_lexer": "ipython3",
   "version": "3.12.2"
  }
 },
 "nbformat": 4,
 "nbformat_minor": 5
}
