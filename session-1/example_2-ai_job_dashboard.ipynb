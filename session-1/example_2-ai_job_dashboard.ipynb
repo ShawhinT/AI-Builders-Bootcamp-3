{
 "cells": [
  {
   "cell_type": "markdown",
   "id": "5a03dc1a-4e25-4f7c-bd50-c3f62882d6a0",
   "metadata": {},
   "source": [
    "# AI Job Dashboard with Plotly Dash\n",
    "## ABB #3 - Session 1\n",
    "\n",
    "Code authored by: Shaw Talebi"
   ]
  },
  {
   "cell_type": "markdown",
   "id": "16ad25a6-b743-45f7-86fe-5d718c7f5bb3",
   "metadata": {},
   "source": [
    "### imports"
   ]
  },
  {
   "cell_type": "code",
   "execution_count": 1,
   "id": "965a89aa-c8bd-46ee-9e85-db9b3dbda95c",
   "metadata": {},
   "outputs": [],
   "source": [
    "import pandas as pd\n",
    "import re\n",
    "from collections import Counter\n",
    "\n",
    "import plotly.express as px\n",
    "from dash import dcc, html, Dash"
   ]
  },
  {
   "cell_type": "markdown",
   "id": "35a1548e-cdfe-4d24-8bea-215814426fdc",
   "metadata": {},
   "source": [
    "### 1) import data"
   ]
  },
  {
   "cell_type": "code",
   "execution_count": 2,
   "id": "1459f01e-5c43-4276-a7cb-5231308d7473",
   "metadata": {},
   "outputs": [
    {
     "data": {
      "text/html": [
       "<div>\n",
       "<style scoped>\n",
       "    .dataframe tbody tr th:only-of-type {\n",
       "        vertical-align: middle;\n",
       "    }\n",
       "\n",
       "    .dataframe tbody tr th {\n",
       "        vertical-align: top;\n",
       "    }\n",
       "\n",
       "    .dataframe thead th {\n",
       "        text-align: right;\n",
       "    }\n",
       "</style>\n",
       "<table border=\"1\" class=\"dataframe\">\n",
       "  <thead>\n",
       "    <tr style=\"text-align: right;\">\n",
       "      <th></th>\n",
       "      <th>company_name</th>\n",
       "      <th>job_title</th>\n",
       "      <th>job_description</th>\n",
       "      <th>salary_min</th>\n",
       "      <th>salary_max</th>\n",
       "    </tr>\n",
       "  </thead>\n",
       "  <tbody>\n",
       "    <tr>\n",
       "      <th>0</th>\n",
       "      <td>The Walt Disney Company</td>\n",
       "      <td>Software Engineer II</td>\n",
       "      <td>Job Posting Title:Software Engineer IIReq ID:1...</td>\n",
       "      <td>114900.0</td>\n",
       "      <td>154100.0</td>\n",
       "    </tr>\n",
       "    <tr>\n",
       "      <th>1</th>\n",
       "      <td>Leidos</td>\n",
       "      <td>Signal Processing Software Engineer</td>\n",
       "      <td>Do you want to join a high performing team tha...</td>\n",
       "      <td>67600.0</td>\n",
       "      <td>122200.0</td>\n",
       "    </tr>\n",
       "    <tr>\n",
       "      <th>3</th>\n",
       "      <td>Crinetics Pharmaceuticals</td>\n",
       "      <td>Director, Data Management NDC</td>\n",
       "      <td>Crinetics is a pharmaceutical company based in...</td>\n",
       "      <td>189000.0</td>\n",
       "      <td>236000.0</td>\n",
       "    </tr>\n",
       "    <tr>\n",
       "      <th>4</th>\n",
       "      <td>Crinetics Pharmaceuticals</td>\n",
       "      <td>Senior Clinical Data Management Manager</td>\n",
       "      <td>Crinetics is a pharmaceutical company based in...</td>\n",
       "      <td>114000.0</td>\n",
       "      <td>143000.0</td>\n",
       "    </tr>\n",
       "    <tr>\n",
       "      <th>5</th>\n",
       "      <td>Geosyntec Consultants</td>\n",
       "      <td>Data Management Intern</td>\n",
       "      <td>Overview Do you want to build an impactful car...</td>\n",
       "      <td>40220.0</td>\n",
       "      <td>59000.0</td>\n",
       "    </tr>\n",
       "  </tbody>\n",
       "</table>\n",
       "</div>"
      ],
      "text/plain": [
       "                company_name                                job_title  \\\n",
       "0    The Walt Disney Company                     Software Engineer II   \n",
       "1                     Leidos      Signal Processing Software Engineer   \n",
       "3  Crinetics Pharmaceuticals            Director, Data Management NDC   \n",
       "4  Crinetics Pharmaceuticals  Senior Clinical Data Management Manager   \n",
       "5      Geosyntec Consultants                   Data Management Intern   \n",
       "\n",
       "                                     job_description  salary_min  salary_max  \n",
       "0  Job Posting Title:Software Engineer IIReq ID:1...    114900.0    154100.0  \n",
       "1  Do you want to join a high performing team tha...     67600.0    122200.0  \n",
       "3  Crinetics is a pharmaceutical company based in...    189000.0    236000.0  \n",
       "4  Crinetics is a pharmaceutical company based in...    114000.0    143000.0  \n",
       "5  Overview Do you want to build an impactful car...     40220.0     59000.0  "
      ]
     },
     "execution_count": 2,
     "metadata": {},
     "output_type": "execute_result"
    }
   ],
   "source": [
    "df = pd.read_csv(\"data/ai_job_data.csv\")\n",
    "df = df.dropna()\n",
    "df.head()"
   ]
  },
  {
   "cell_type": "markdown",
   "id": "7b2d0fd5-51a4-4f23-b4b6-76b11ce93412",
   "metadata": {},
   "source": [
    "### 2) pre-process data"
   ]
  },
  {
   "cell_type": "markdown",
   "id": "f6ad05f8-f5d9-4680-ba76-525c944a7ff2",
   "metadata": {},
   "source": [
    "#### standardize job titles"
   ]
  },
  {
   "cell_type": "code",
   "execution_count": 3,
   "id": "5112b115-cd67-4aae-afe6-42db08dad146",
   "metadata": {
    "jupyter": {
     "source_hidden": true
    }
   },
   "outputs": [],
   "source": [
    "def standardize_job_title(title):\n",
    "    \"\"\"\n",
    "    This script standardizes a list of job titles into 10 unique role categories using keyword matching.\n",
    "    It categorizes roles such as Data Engineer, Software Engineer, Machine Learning Engineer, \n",
    "    Data Analyst, and others based on common keywords found in the job titles.\n",
    "    \n",
    "    Functions:\n",
    "    - standardize_job_title(title): Maps job titles to predefined categories.\n",
    "    - The script also generates a dataframe displaying the original and standardized titles.\n",
    "    \n",
    "    Example Usage:\n",
    "      titles = [\"Software Engineer II\", \"Data Engineer\"]\n",
    "      standardized_titles = [standardize_job_title(title) for title in titles]\n",
    "    \"\"\"\n",
    "    title = title.lower()\n",
    "    if any(keyword in title for keyword in [\"data engineer\", \"databricks\", \"pipeline\"]):\n",
    "        return \"Data Engineer\"\n",
    "    elif any(keyword in title for keyword in [\"software engineer\", \"developer\", \"cno developer\"]):\n",
    "        return \"Software Engineer\"\n",
    "    elif any(keyword in title for keyword in [\"machine learning\", \"ai\", \"ml\", \"model\"]):\n",
    "        return \"Machine Learning Engineer\"\n",
    "    elif any(keyword in title for keyword in [\"data analyst\", \"analytics consultant\", \"business intelligence\"]):\n",
    "        return \"Data Analyst\"\n",
    "    elif any(keyword in title for keyword in [\"data governance\", \"data management\", \"data strategy\"]):\n",
    "        return \"Data Governance & Management\"\n",
    "    elif any(keyword in title for keyword in [\"business analyst\", \"solution consultant\", \"business execution\", \"operations\"]):\n",
    "        return \"Business Analyst\"\n",
    "    elif any(keyword in title for keyword in [\"director\", \"head\", \"principal\", \"senior director\", \"associate director\"]):\n",
    "        return \"Director / Executive\"\n",
    "    elif any(keyword in title for keyword in [\"systems engineer\", \"mechatronics\", \"robotics\", \"signal processing\"]):\n",
    "        return \"Systems & Robotics Engineer\"\n",
    "    elif any(keyword in title for keyword in [\"clinical\", \"healthcare\", \"policy\", \"sanctions screening\", \"compliance\"]):\n",
    "        return \"Healthcare & Compliance Analyst\"\n",
    "    elif \"intern\" in title or \"apprentice\" in title:\n",
    "        return \"Intern / Apprentice\"\n",
    "    else:\n",
    "        return \"Other\""
   ]
  },
  {
   "cell_type": "code",
   "execution_count": 4,
   "id": "ec35e757-2e69-487f-a62c-eb7546581a86",
   "metadata": {},
   "outputs": [
    {
     "name": "stdout",
     "output_type": "stream",
     "text": [
      "Num raw job titles: 42\n",
      "Num standardized job titles: 9\n"
     ]
    }
   ],
   "source": [
    "# Apply the regex-based function to the job_title column\n",
    "df['standardized_job_title'] = df['job_title'].apply(standardize_job_title)\n",
    "\n",
    "print(\"Num raw job titles:\", df['job_title'].nunique())\n",
    "print(\"Num standardized job titles:\", df['standardized_job_title'].nunique())"
   ]
  },
  {
   "cell_type": "code",
   "execution_count": 5,
   "id": "976459bb-58db-4189-8f3a-0b5192a3d183",
   "metadata": {},
   "outputs": [
    {
     "data": {
      "text/html": [
       "<div>\n",
       "<style scoped>\n",
       "    .dataframe tbody tr th:only-of-type {\n",
       "        vertical-align: middle;\n",
       "    }\n",
       "\n",
       "    .dataframe tbody tr th {\n",
       "        vertical-align: top;\n",
       "    }\n",
       "\n",
       "    .dataframe thead th {\n",
       "        text-align: right;\n",
       "    }\n",
       "</style>\n",
       "<table border=\"1\" class=\"dataframe\">\n",
       "  <thead>\n",
       "    <tr style=\"text-align: right;\">\n",
       "      <th></th>\n",
       "      <th>Job Title</th>\n",
       "      <th>Mean Salary</th>\n",
       "    </tr>\n",
       "  </thead>\n",
       "  <tbody>\n",
       "    <tr>\n",
       "      <th>0</th>\n",
       "      <td>Other</td>\n",
       "      <td>67290.000000</td>\n",
       "    </tr>\n",
       "    <tr>\n",
       "      <th>1</th>\n",
       "      <td>Systems &amp; Robotics Engineer</td>\n",
       "      <td>98560.000000</td>\n",
       "    </tr>\n",
       "    <tr>\n",
       "      <th>2</th>\n",
       "      <td>Software Engineer</td>\n",
       "      <td>136242.666667</td>\n",
       "    </tr>\n",
       "    <tr>\n",
       "      <th>3</th>\n",
       "      <td>Data Analyst</td>\n",
       "      <td>138002.000000</td>\n",
       "    </tr>\n",
       "    <tr>\n",
       "      <th>4</th>\n",
       "      <td>Business Analyst</td>\n",
       "      <td>144546.000000</td>\n",
       "    </tr>\n",
       "  </tbody>\n",
       "</table>\n",
       "</div>"
      ],
      "text/plain": [
       "                     Job Title    Mean Salary\n",
       "0                        Other   67290.000000\n",
       "1  Systems & Robotics Engineer   98560.000000\n",
       "2            Software Engineer  136242.666667\n",
       "3                 Data Analyst  138002.000000\n",
       "4             Business Analyst  144546.000000"
      ]
     },
     "execution_count": 5,
     "metadata": {},
     "output_type": "execute_result"
    }
   ],
   "source": [
    "# sum max salary for each standardized job title\n",
    "s_jobs = df.groupby('standardized_job_title')['salary_max'].mean()\n",
    "s_jobs = s_jobs.sort_values()\n",
    "\n",
    "# convert to dataframe\n",
    "df_jobs = s_jobs.reset_index()\n",
    "df_jobs.columns = [\"Job Title\", \"Mean Salary\"]\n",
    "df_jobs.head()"
   ]
  },
  {
   "cell_type": "markdown",
   "id": "e8108630-588e-4e6a-847a-ea1768b9adff",
   "metadata": {},
   "source": [
    "#### extract common skills from JD"
   ]
  },
  {
   "cell_type": "code",
   "execution_count": 6,
   "id": "80536ed7-aa1e-4254-bf25-d877c89ab9c0",
   "metadata": {
    "jupyter": {
     "source_hidden": true
    }
   },
   "outputs": [],
   "source": [
    "def extract_skills(description):\n",
    "    \"\"\"\n",
    "    Extracts AI-related skills from a given job description.\n",
    "\n",
    "    Args:\n",
    "        description (str): The job description text to search for skills.\n",
    "\n",
    "    Returns:\n",
    "        list: A list of skills found in the job description, matched from a predefined set of common AI-related skills.\n",
    "\n",
    "    Notes:\n",
    "        - The function defines a list of common AI-related skills, including programming languages, frameworks,\n",
    "          cloud platforms, and statistical concepts.\n",
    "        - The input description is converted to lowercase to ensure case-insensitive matching.\n",
    "        - Skills are detected using regular expressions to match whole words, avoiding partial matches (e.g., \n",
    "          \"spark\" will not match \"sparking\").\n",
    "    \"\"\"\n",
    "    \n",
    "    # Define a list of common AI-related skills\n",
    "    skills_list = [\n",
    "        \"python\", \"r\", \"java\", \"c++\", \"sql\", \"scala\", \"spark\", \"hadoop\", \"tensorflow\", \"pytorch\",\n",
    "        \"keras\", \"scikit-learn\", \"machine learning\", \"deep learning\", \"nlp\", \"natural language processing\",\n",
    "        \"computer vision\", \"data analysis\", \"data engineering\", \"big data\", \"ai\", \"artificial intelligence\",\n",
    "        \"cloud\", \"aws\", \"azure\", \"gcp\", \"docker\", \"kubernetes\", \"linux\", \"flask\", \"django\", \"pandas\",\n",
    "        \"numpy\", \"matplotlib\", \"seaborn\", \"plotly\", \"etl\", \"api\", \"statistics\", \"probability\", \"regression\",\n",
    "        \"classification\", \"clustering\", \"time series\", \"neural networks\", \"bayesian methods\", \"git\", \"mlops\"\n",
    "    ]\n",
    "\n",
    "    description = description.lower()\n",
    "    found_skills = [skill for skill in skills_list if re.search(rf\"\\b{re.escape(skill)}\\b\", description)]\n",
    "    \n",
    "    return found_skills\n",
    "\n",
    "# notice we could have done something similar to get standardized job titles"
   ]
  },
  {
   "cell_type": "code",
   "execution_count": 7,
   "id": "e5f0b7c2-ee3e-4092-abd0-1fe239eb9b9f",
   "metadata": {},
   "outputs": [
    {
     "data": {
      "text/plain": [
       "0    [python, java, sql, tensorflow, pytorch, sciki...\n",
       "1    [python, java, tensorflow, pytorch, scikit-lea...\n",
       "3                                                [gcp]\n",
       "4                                                [gcp]\n",
       "5                    [python, r, sql, etl, statistics]\n",
       "Name: extracted_skills, dtype: object"
      ]
     },
     "execution_count": 7,
     "metadata": {},
     "output_type": "execute_result"
    }
   ],
   "source": [
    "# Apply the function to extract skills from each job description\n",
    "df['extracted_skills'] = df['job_description'].apply(lambda x: extract_skills(str(x)))\n",
    "df['extracted_skills'].head()"
   ]
  },
  {
   "cell_type": "code",
   "execution_count": 8,
   "id": "6b28a4aa-e19b-4565-b256-798485c7b016",
   "metadata": {},
   "outputs": [
    {
     "data": {
      "text/html": [
       "<div>\n",
       "<style scoped>\n",
       "    .dataframe tbody tr th:only-of-type {\n",
       "        vertical-align: middle;\n",
       "    }\n",
       "\n",
       "    .dataframe tbody tr th {\n",
       "        vertical-align: top;\n",
       "    }\n",
       "\n",
       "    .dataframe thead th {\n",
       "        text-align: right;\n",
       "    }\n",
       "</style>\n",
       "<table border=\"1\" class=\"dataframe\">\n",
       "  <thead>\n",
       "    <tr style=\"text-align: right;\">\n",
       "      <th></th>\n",
       "      <th>Skill</th>\n",
       "      <th>Count</th>\n",
       "    </tr>\n",
       "  </thead>\n",
       "  <tbody>\n",
       "    <tr>\n",
       "      <th>31</th>\n",
       "      <td>numpy</td>\n",
       "      <td>1</td>\n",
       "    </tr>\n",
       "    <tr>\n",
       "      <th>29</th>\n",
       "      <td>time series</td>\n",
       "      <td>1</td>\n",
       "    </tr>\n",
       "    <tr>\n",
       "      <th>32</th>\n",
       "      <td>plotly</td>\n",
       "      <td>1</td>\n",
       "    </tr>\n",
       "    <tr>\n",
       "      <th>22</th>\n",
       "      <td>nlp</td>\n",
       "      <td>1</td>\n",
       "    </tr>\n",
       "    <tr>\n",
       "      <th>33</th>\n",
       "      <td>git</td>\n",
       "      <td>1</td>\n",
       "    </tr>\n",
       "  </tbody>\n",
       "</table>\n",
       "</div>"
      ],
      "text/plain": [
       "          Skill  Count\n",
       "31        numpy      1\n",
       "29  time series      1\n",
       "32       plotly      1\n",
       "22          nlp      1\n",
       "33          git      1"
      ]
     },
     "execution_count": 8,
     "metadata": {},
     "output_type": "execute_result"
    }
   ],
   "source": [
    "# create a list with all the skills from the JDs\n",
    "all_skills = [skill for skills in df['extracted_skills'] for skill in skills]\n",
    "\n",
    "# count skill occurances\n",
    "skill_counts = Counter(all_skills)\n",
    "\n",
    "# Convert the skill counts to a DataFrame\n",
    "df_skills = pd.DataFrame(skill_counts.items(), columns=[\"Skill\", \"Count\"]).sort_values(by=\"Count\")\n",
    "df_skills.head()"
   ]
  },
  {
   "cell_type": "markdown",
   "id": "ef2e89fe-14ee-43b2-87ac-1b791876e138",
   "metadata": {},
   "source": [
    "### 3) create dashboard"
   ]
  },
  {
   "cell_type": "code",
   "execution_count": 9,
   "id": "52f75565-3e9c-4f98-8c99-77ddd6d44130",
   "metadata": {},
   "outputs": [],
   "source": [
    "# Create the plots\n",
    "bar_chart = dcc.Graph(\n",
    "    id='top-roles',\n",
    "    figure=px.bar(df.sort_values(by='salary_max', ascending=False), \n",
    "                  x='standardized_job_title', \n",
    "                  y='salary_max', \n",
    "                  color='company_name', \n",
    "                  title='Highest Paying AI Jobs',\n",
    "                  labels={'salary_max': 'Maximum Salary', 'job_title': 'Job Title'},\n",
    "                  height=500)\n",
    ")\n",
    "\n",
    "top_jobs_chart = dcc.Graph(\n",
    "    id='top-jobs-chart',\n",
    "    figure=px.bar(\n",
    "        df_jobs[-5:],\n",
    "        y='Job Title',      \n",
    "        x='Mean Salary',\n",
    "        title='Top 5 Roles',\n",
    "        height=250\n",
    "    ).update_layout(\n",
    "        xaxis_title_font_size=12,    # Reduce x-axis label font size\n",
    "        yaxis_title_font_size=12,    # Reduce y-axis label font size\n",
    "        xaxis_tickfont_size=10,      # Reduce x-axis tick label font size\n",
    "        yaxis_tickfont_size=10       # Reduce y-axis tick label font size\n",
    "    )\n",
    ")\n",
    "\n",
    "top_skills_chart = dcc.Graph(\n",
    "    id='top-skills-chart',\n",
    "    figure=px.bar(\n",
    "        df_skills[-5:],\n",
    "        y='Skill',      \n",
    "        x='Count',\n",
    "        title='Top 5 Skills',\n",
    "        height=250\n",
    "    ).update_layout(\n",
    "        xaxis_title_font_size=12,    # Reduce x-axis label font size\n",
    "        yaxis_title_font_size=12,    # Reduce y-axis label font size\n",
    "        xaxis_tickfont_size=10,      # Reduce x-axis tick label font size\n",
    "        yaxis_tickfont_size=10       # Reduce y-axis tick label font size\n",
    "    )\n",
    ")"
   ]
  },
  {
   "cell_type": "code",
   "execution_count": 10,
   "id": "34d3ea91-6fa0-444e-b3a5-28add2aa8ac6",
   "metadata": {},
   "outputs": [
    {
     "name": "stdout",
     "output_type": "stream",
     "text": [
      "Dash app running on http://127.0.0.1:8050/\n"
     ]
    }
   ],
   "source": [
    "# Initialize the Dash app\n",
    "app = Dash(__name__)\n",
    "\n",
    "# App layout with styled divs for positioning\n",
    "app.layout = html.Div([\n",
    "    html.Div(bar_chart, style={'width': '70%', 'display': 'inline-block', 'vertical-align': 'top'}),\n",
    "    html.Div([\n",
    "        html.Div(top_jobs_chart, style={'height': '50%'}),\n",
    "        html.Div(top_skills_chart, style={'height': '50%'})\n",
    "    ], style={'width': '30%', 'display': 'inline-block', 'vertical-align': 'top'})\n",
    "])\n",
    "\n",
    "# Run the app\n",
    "app.run(jupyter_mode=\"external\")"
   ]
  },
  {
   "cell_type": "code",
   "execution_count": null,
   "id": "072b98f8-d820-437a-86e9-cefcdb4a9d5c",
   "metadata": {},
   "outputs": [],
   "source": []
  }
 ],
 "metadata": {
  "kernelspec": {
   "display_name": "Python 3 (ipykernel)",
   "language": "python",
   "name": "python3"
  },
  "language_info": {
   "codemirror_mode": {
    "name": "ipython",
    "version": 3
   },
   "file_extension": ".py",
   "mimetype": "text/x-python",
   "name": "python",
   "nbconvert_exporter": "python",
   "pygments_lexer": "ipython3",
   "version": "3.12.2"
  }
 },
 "nbformat": 4,
 "nbformat_minor": 5
}
