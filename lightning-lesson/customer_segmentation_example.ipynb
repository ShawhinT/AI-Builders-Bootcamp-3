{
 "cells": [
  {
   "cell_type": "markdown",
   "id": "51b0a8e4-b8d1-49c1-8933-6231ba64970c",
   "metadata": {},
   "source": [
    "# Embedding-based Customer Segmentation\n",
    "\n",
    "Code authored by: Shaw Talebi <br>\n",
    "Recording link: coming soon"
   ]
  },
  {
   "cell_type": "markdown",
   "id": "8786c421-d2cf-4146-a6f6-5a9c5523b686",
   "metadata": {},
   "source": [
    "### imports"
   ]
  },
  {
   "cell_type": "code",
   "execution_count": 1,
   "id": "0c32eff2-010f-4017-834f-cc8ebb0b1ee7",
   "metadata": {},
   "outputs": [],
   "source": [
    "import pandas as pd\n",
    "import matplotlib.pyplot as plt\n",
    "from sklearn.decomposition import PCA\n",
    "from sklearn.cluster import KMeans, DBSCAN\n",
    "import numpy as np\n",
    "\n",
    "from openai import OpenAI\n",
    "from top_secret import my_sk\n",
    "client = OpenAI(api_key=my_sk)"
   ]
  },
  {
   "cell_type": "markdown",
   "id": "d5eedc85-87af-49d2-838a-0ef402e30259",
   "metadata": {},
   "source": [
    "### load data"
   ]
  },
  {
   "cell_type": "code",
   "execution_count": 2,
   "id": "6e4038ef-e81b-4890-9b27-9609080ce775",
   "metadata": {},
   "outputs": [
    {
     "name": "stdout",
     "output_type": "stream",
     "text": [
      "(83, 2)\n"
     ]
    }
   ],
   "source": [
    "# load data\n",
    "df = pd.read_csv(\"data/survey.csv\")\n",
    "print(df.shape)"
   ]
  },
  {
   "cell_type": "code",
   "execution_count": 3,
   "id": "2199e2ae-5a67-494e-9c55-2749f7bdda1e",
   "metadata": {},
   "outputs": [
    {
     "name": "stdout",
     "output_type": "stream",
     "text": [
      "(66, 2)\n"
     ]
    }
   ],
   "source": [
    "# drop rows with missing values\n",
    "df = df.dropna()\n",
    "print(df.shape)"
   ]
  },
  {
   "cell_type": "code",
   "execution_count": 4,
   "id": "8b62bd8b-73c9-4f51-aa61-6ff8f79b66ee",
   "metadata": {},
   "outputs": [
    {
     "data": {
      "text/html": [
       "<div>\n",
       "<style scoped>\n",
       "    .dataframe tbody tr th:only-of-type {\n",
       "        vertical-align: middle;\n",
       "    }\n",
       "\n",
       "    .dataframe tbody tr th {\n",
       "        vertical-align: top;\n",
       "    }\n",
       "\n",
       "    .dataframe thead th {\n",
       "        text-align: right;\n",
       "    }\n",
       "</style>\n",
       "<table border=\"1\" class=\"dataframe\">\n",
       "  <thead>\n",
       "    <tr style=\"text-align: right;\">\n",
       "      <th></th>\n",
       "      <th>job_title</th>\n",
       "      <th>join_reason</th>\n",
       "    </tr>\n",
       "  </thead>\n",
       "  <tbody>\n",
       "    <tr>\n",
       "      <th>0</th>\n",
       "      <td>Founder</td>\n",
       "      <td>How to fine tune LLM effectively, and what LLM...</td>\n",
       "    </tr>\n",
       "    <tr>\n",
       "      <th>1</th>\n",
       "      <td>Financial Management &amp; Compliance Advisor</td>\n",
       "      <td>Gain knowledge and skills to be able to develo...</td>\n",
       "    </tr>\n",
       "    <tr>\n",
       "      <th>2</th>\n",
       "      <td>Founder in the making</td>\n",
       "      <td>Build an AI product</td>\n",
       "    </tr>\n",
       "    <tr>\n",
       "      <th>3</th>\n",
       "      <td>Staff Scientist</td>\n",
       "      <td>Better understanding and skill set in AI to ma...</td>\n",
       "    </tr>\n",
       "    <tr>\n",
       "      <th>4</th>\n",
       "      <td>Data scientist</td>\n",
       "      <td>Getting skills (for my resume)</td>\n",
       "    </tr>\n",
       "  </tbody>\n",
       "</table>\n",
       "</div>"
      ],
      "text/plain": [
       "                                   job_title  \\\n",
       "0                                    Founder   \n",
       "1  Financial Management & Compliance Advisor   \n",
       "2                      Founder in the making   \n",
       "3                           Staff Scientist    \n",
       "4                             Data scientist   \n",
       "\n",
       "                                         join_reason  \n",
       "0  How to fine tune LLM effectively, and what LLM...  \n",
       "1  Gain knowledge and skills to be able to develo...  \n",
       "2                                Build an AI product  \n",
       "3  Better understanding and skill set in AI to ma...  \n",
       "4                     Getting skills (for my resume)  "
      ]
     },
     "execution_count": 4,
     "metadata": {},
     "output_type": "execute_result"
    }
   ],
   "source": [
    "df.head()"
   ]
  },
  {
   "cell_type": "markdown",
   "id": "357be469-12e7-468d-95e4-660cbffd98fb",
   "metadata": {},
   "source": [
    "### compute embeddings"
   ]
  },
  {
   "cell_type": "code",
   "execution_count": 5,
   "id": "584f5424-c8c9-42fd-b015-4a9c3ad4d36a",
   "metadata": {},
   "outputs": [],
   "source": [
    "# define number of embedding dimensions\n",
    "job_embedding_dim = 12\n",
    "reason_embedding_dim = 24"
   ]
  },
  {
   "cell_type": "code",
   "execution_count": 6,
   "id": "db597c5c-621f-43d4-a8f6-2d544c904c0e",
   "metadata": {},
   "outputs": [],
   "source": [
    "# compute embeddings for job descriptions\n",
    "job_response = client.embeddings.create(\n",
    "    input=df['job_title'],\n",
    "    model=\"text-embedding-3-small\",\n",
    "    dimensions = job_embedding_dim\n",
    ")"
   ]
  },
  {
   "cell_type": "code",
   "execution_count": 7,
   "id": "ea8ac5ca-3d1f-4671-b2d6-5c95f0ca139e",
   "metadata": {},
   "outputs": [],
   "source": [
    "# compute embeddings for joined reasons\n",
    "reason_response = client.embeddings.create(\n",
    "    input=df['join_reason'],\n",
    "    model=\"text-embedding-3-small\",\n",
    "    dimensions = reason_embedding_dim\n",
    ")"
   ]
  },
  {
   "cell_type": "code",
   "execution_count": 8,
   "id": "deee5b7a-7a2e-4280-96f4-c8f1fd2b02de",
   "metadata": {},
   "outputs": [],
   "source": [
    "# create list with all embeddings\n",
    "embedding_list = [job_response.data[i].embedding + reason_response.data[i].embedding for i in range(len(df))]"
   ]
  },
  {
   "cell_type": "code",
   "execution_count": 9,
   "id": "a91933bb-c717-41f5-bf7d-3d1988b1edcb",
   "metadata": {},
   "outputs": [],
   "source": [
    "# create df_embeddings\n",
    "col_names = [f\"job_embedding-{i+1}\" for i in range(len(job_response.data[0].embedding))] + [f\"reason_embedding-{i+1}\" for i in range(len(reason_response.data[0].embedding))]\n",
    "df_embeddings = pd.DataFrame(embedding_list, columns=col_names)"
   ]
  },
  {
   "cell_type": "markdown",
   "id": "fbb057eb-8e4f-48a9-a1bf-b1ad1585e63b",
   "metadata": {},
   "source": [
    "### Clustering"
   ]
  },
  {
   "cell_type": "code",
   "execution_count": 10,
   "id": "018ebeed-5940-4408-a986-b8e80b49828a",
   "metadata": {},
   "outputs": [],
   "source": [
    "# KMeans\n",
    "num_segments = 5\n",
    "clustering = KMeans(n_clusters=num_segments, random_state=0).fit(df_embeddings)\n",
    "\n",
    "# add segments to survey data\n",
    "df[\"segment\"] = clustering.labels_+1"
   ]
  },
  {
   "cell_type": "code",
   "execution_count": 11,
   "id": "cc429f70-01de-4fc3-95a5-ca2f06b125e9",
   "metadata": {
    "jupyter": {
     "source_hidden": true
    }
   },
   "outputs": [],
   "source": [
    "# # DBSCAN (more advanced, no need to set number of segments)\n",
    "# clustering = DBSCAN(eps=1.05, min_samples=2).fit(df_embeddings)\n",
    "\n",
    "# # add segments to survey data\n",
    "# df[\"segment\"] = clustering.labels_+1"
   ]
  },
  {
   "cell_type": "code",
   "execution_count": 12,
   "id": "d0399fc8-db2e-443c-81fc-a95a99f5f79e",
   "metadata": {},
   "outputs": [
    {
     "data": {
      "image/png": "[encoded data removed]",
      "text/plain": [
       "<Figure size 640x480 with 1 Axes>"
      ]
     },
     "metadata": {},
     "output_type": "display_data"
    }
   ],
   "source": [
    "# use PCA to reduce dimensionality for visualization\n",
    "X = PCA(n_components=2).fit_transform(df_embeddings)\n",
    "\n",
    "# plot components for each segment\n",
    "for label in range(num_segments):\n",
    "    indexes = np.where(clustering.labels_ == label)[0]\n",
    "    plt.scatter(X[indexes,0], X[indexes,1], label=f\"Segment {label+1}\")\n",
    "\n",
    "plt.legend(bbox_to_anchor=(1.05, 1), loc='upper left')\n",
    "plt.xlabel(\"PC 1\")\n",
    "plt.ylabel(\"PC 2\")\n",
    "plt.show()"
   ]
  },
  {
   "cell_type": "markdown",
   "id": "0ef51192-7c7d-4919-8f82-92997a8b8c5e",
   "metadata": {},
   "source": [
    "### Generate Segment Profiles with GPT"
   ]
  },
  {
   "cell_type": "code",
   "execution_count": 13,
   "id": "6a4f5a05-3126-40ce-b456-c4e8211321fe",
   "metadata": {
    "jupyter": {
     "source_hidden": true
    }
   },
   "outputs": [],
   "source": [
    "def dataframe_to_markdown(df):\n",
    "    \"\"\"\n",
    "    Converts a Pandas DataFrame into a Markdown table.\n",
    "\n",
    "    Parameters\n",
    "    ----------\n",
    "    df : pandas.DataFrame\n",
    "        The DataFrame to be converted into a Markdown table.\n",
    "\n",
    "    Returns\n",
    "    -------\n",
    "    str\n",
    "        A string representing the DataFrame in Markdown table format.\n",
    "        The table includes a header row with column names and rows\n",
    "        formatted with proper Markdown table syntax.\"\"\"\n",
    "    \n",
    "    # Create the header row\n",
    "    markdown = f\"| {' | '.join(df.columns)} |\\n\"\n",
    "    markdown += f\"| {' | '.join(['-' * len(col) for col in df.columns])} |\\n\"\n",
    "    \n",
    "    # Add each row\n",
    "    for _, row in df.iterrows():\n",
    "        markdown += f\"| {' | '.join(str(cell) for cell in row)} |\\n\"\n",
    "    \n",
    "    return markdown"
   ]
  },
  {
   "cell_type": "code",
   "execution_count": 14,
   "id": "39585370-33e9-48fb-b6f9-eae91151589c",
   "metadata": {
    "jupyter": {
     "source_hidden": true
    }
   },
   "outputs": [],
   "source": [
    "prompt_template = lambda markdown_table: f\"\"\"You are a business strategist specializing in customer segmentation and profiling. \\\n",
    "Below is a table of survey responses from customers, including their job titles and reasons for joining an AI bootcamp. \\\n",
    "Your task is to analyze the responses and generate a **single predominant customer profile** that represents the most common \\\n",
    "characteristics and motivations across the group.\n",
    "\n",
    "Please include:\n",
    "1. **Job Title**: A single representative job title summarizing those listed in the table\n",
    "2. **Desired Outcomes**: A single representative desired outcome synthesizing those listed in the table\n",
    "3. **Key Challenges**: A single representative key challenge synthesizing those listed in the table\n",
    "\n",
    "### Survey Responses\n",
    "\n",
    "{markdown_table}                                                                                                                                       |\n",
    "\n",
    "### Instructions:\n",
    "- Keep each section concise (1 sentence or bullet points).\n",
    "- Use simple language and avoid unnecessary details.\n",
    "- Total response should be under **100 words**.\n",
    "- Only include the three items list above (i.e. Job Title, Desired Outcomes, and Key Challenges)\n",
    "\n",
    "Begin your analysis and generate the customer profile below:\n",
    "\"\"\""
   ]
  },
  {
   "cell_type": "code",
   "execution_count": 15,
   "id": "533029bb-3f50-4900-8012-051dfcc9707a",
   "metadata": {
    "jupyter": {
     "source_hidden": true
    }
   },
   "outputs": [],
   "source": [
    "def generate_avatar(my_sk, df_segment):\n",
    "    \"\"\"\n",
    "    Generates a customer avatar by using a GPT model to process a Pandas DataFrame segment.\n",
    "\n",
    "    Parameters\n",
    "    ----------\n",
    "    my_sk : str\n",
    "        The API key or secret used for authenticating the GPT API client.\n",
    "    df_segment : pandas.DataFrame\n",
    "        A segment of a Pandas DataFrame containing relevant customer data \n",
    "        that will be used to construct the prompt.\n",
    "\n",
    "    Returns\n",
    "    -------\n",
    "    str\n",
    "        A string representing the generated customer avatar.\"\"\"\n",
    "    \n",
    "    # construct prompt\n",
    "    markdown_table = dataframe_to_markdown(df_segment)\n",
    "    prompt = prompt_template(markdown_table)\n",
    "    \n",
    "    # make api call\n",
    "    response = client.chat.completions.create(\n",
    "        model=\"gpt-4o-mini\",\n",
    "        messages=[\n",
    "            {\"role\": \"user\", \"content\": prompt}\n",
    "        ], \n",
    "        temperature = 0.5\n",
    "    )\n",
    "    \n",
    "    # extract response\n",
    "    customer_avatar = response.choices[0].message.content\n",
    "    return customer_avatar"
   ]
  },
  {
   "cell_type": "code",
   "execution_count": 16,
   "id": "00de2e13-3988-4077-806b-5fbdec254645",
   "metadata": {
    "jupyter": {
     "source_hidden": true
    }
   },
   "outputs": [
    {
     "name": "stdout",
     "output_type": "stream",
     "text": [
      "Segment 1 | Size: 5\n",
      "- **Job Title**: Founder  \n",
      "- **Desired Outcomes**: Gain practical skills to develop and fine-tune AI applications independently.  \n",
      "- **Key Challenges**: Limited time to learn and implement complex AI coding examples effectively.  \n",
      "----------------------------------------------------------------------------------------------------\n",
      "Segment 2 | Size: 27\n",
      "- **Job Title**: Data Professional (encompassing roles like Data Analyst, Data Scientist, and Solutions Architect)  \n",
      "- **Desired Outcomes**: Gain practical AI skills and foundational knowledge to enhance career opportunities and apply AI in real-world projects.  \n",
      "- **Key Challenges**: Bridging knowledge gaps in AI concepts and practical applications while navigating the complexities of integrating AI into existing workflows.  \n",
      "----------------------------------------------------------------------------------------------------\n",
      "Segment 3 | Size: 12\n",
      "- **Job Title**: Product Manager  \n",
      "- **Desired Outcomes**: Gain practical experience and knowledge in AI and LLMs to effectively collaborate with technical teams.  \n",
      "- **Key Challenges**: Limited technical background and the need to understand complex AI concepts and tools for better product management.  \n",
      "----------------------------------------------------------------------------------------------------\n",
      "Segment 4 | Size: 16\n",
      "- **Job Title**: Founder  \n",
      "- **Desired Outcomes**: Build and deploy practical AI applications and tools.  \n",
      "- **Key Challenges**: Gaining hands-on experience and understanding the mechanics of AI for effective implementation.  \n",
      "----------------------------------------------------------------------------------------------------\n",
      "Segment 5 | Size: 6\n",
      "1. **Job Title**: Data Scientist  \n",
      "2. **Desired Outcomes**: Acquire technical skills and hands-on experience with AI and LLMs to enhance career prospects.  \n",
      "3. **Key Challenges**: Balancing course participation with existing commitments while needing to take initiative in learning.  \n",
      "----------------------------------------------------------------------------------------------------\n"
     ]
    }
   ],
   "source": [
    "for i in range(num_segments):\n",
    "    survey_data = df[clustering.labels_==i][['job_title', 'join_reason']]\n",
    "    print(\"Segment\", i+1, \"| Size:\", len(survey_data))\n",
    "    print(generate_avatar(my_sk, survey_data))\n",
    "    print(\"-\" * 100)"
   ]
  },
  {
   "cell_type": "code",
   "execution_count": 17,
   "id": "4d08ade1-3771-4872-bc84-fa7811f3f3a2",
   "metadata": {},
   "outputs": [
    {
     "data": {
      "text/html": [
       "<div>\n",
       "<style scoped>\n",
       "    .dataframe tbody tr th:only-of-type {\n",
       "        vertical-align: middle;\n",
       "    }\n",
       "\n",
       "    .dataframe tbody tr th {\n",
       "        vertical-align: top;\n",
       "    }\n",
       "\n",
       "    .dataframe thead th {\n",
       "        text-align: right;\n",
       "    }\n",
       "</style>\n",
       "<table border=\"1\" class=\"dataframe\">\n",
       "  <thead>\n",
       "    <tr style=\"text-align: right;\">\n",
       "      <th></th>\n",
       "      <th>job_title</th>\n",
       "      <th>join_reason</th>\n",
       "      <th>segment</th>\n",
       "    </tr>\n",
       "  </thead>\n",
       "  <tbody>\n",
       "    <tr>\n",
       "      <th>1</th>\n",
       "      <td>Financial Management &amp; Compliance Advisor</td>\n",
       "      <td>Gain knowledge and skills to be able to develo...</td>\n",
       "      <td>2</td>\n",
       "    </tr>\n",
       "    <tr>\n",
       "      <th>3</th>\n",
       "      <td>Staff Scientist</td>\n",
       "      <td>Better understanding and skill set in AI to ma...</td>\n",
       "      <td>2</td>\n",
       "    </tr>\n",
       "    <tr>\n",
       "      <th>5</th>\n",
       "      <td>Solutions Architect</td>\n",
       "      <td>I would like to understand AI, how to create L...</td>\n",
       "      <td>2</td>\n",
       "    </tr>\n",
       "    <tr>\n",
       "      <th>9</th>\n",
       "      <td>Data Analyst/ Systems Professional</td>\n",
       "      <td>how to start my own ai business</td>\n",
       "      <td>2</td>\n",
       "    </tr>\n",
       "    <tr>\n",
       "      <th>12</th>\n",
       "      <td>Senior Specialist</td>\n",
       "      <td>Experience setting up my own environment and h...</td>\n",
       "      <td>2</td>\n",
       "    </tr>\n",
       "    <tr>\n",
       "      <th>22</th>\n",
       "      <td>CTO</td>\n",
       "      <td>As a tech leader, I want to understand the pos...</td>\n",
       "      <td>2</td>\n",
       "    </tr>\n",
       "    <tr>\n",
       "      <th>23</th>\n",
       "      <td>ML Expert</td>\n",
       "      <td>experience with AI project and regularity of d...</td>\n",
       "      <td>2</td>\n",
       "    </tr>\n",
       "    <tr>\n",
       "      <th>27</th>\n",
       "      <td>CTO - founder, technology lead</td>\n",
       "      <td>I would like to deepen my understanding of AI ...</td>\n",
       "      <td>2</td>\n",
       "    </tr>\n",
       "    <tr>\n",
       "      <th>33</th>\n",
       "      <td>Research Scientist</td>\n",
       "      <td>Get hands on experience with AI projects and l...</td>\n",
       "      <td>2</td>\n",
       "    </tr>\n",
       "    <tr>\n",
       "      <th>34</th>\n",
       "      <td>Vice President, Data Management Office</td>\n",
       "      <td>Get foundational knowledge on AI and related t...</td>\n",
       "      <td>2</td>\n",
       "    </tr>\n",
       "    <tr>\n",
       "      <th>36</th>\n",
       "      <td>Data Scientist</td>\n",
       "      <td>Bridge any knowledge gaps and improve my under...</td>\n",
       "      <td>2</td>\n",
       "    </tr>\n",
       "    <tr>\n",
       "      <th>37</th>\n",
       "      <td>Senior Program Manager</td>\n",
       "      <td>Get more familiar with AI and have some knowle...</td>\n",
       "      <td>2</td>\n",
       "    </tr>\n",
       "    <tr>\n",
       "      <th>38</th>\n",
       "      <td>Success Architect</td>\n",
       "      <td>Intro to AI programming with Python</td>\n",
       "      <td>2</td>\n",
       "    </tr>\n",
       "    <tr>\n",
       "      <th>39</th>\n",
       "      <td>Partner Business Manger</td>\n",
       "      <td>Become an expert at AI</td>\n",
       "      <td>2</td>\n",
       "    </tr>\n",
       "    <tr>\n",
       "      <th>47</th>\n",
       "      <td>Senior Software Engineer</td>\n",
       "      <td>Hands on experience in learning AI that will h...</td>\n",
       "      <td>2</td>\n",
       "    </tr>\n",
       "    <tr>\n",
       "      <th>51</th>\n",
       "      <td>Head of Product</td>\n",
       "      <td>Uplevel my knowledge on AI and ideally be able...</td>\n",
       "      <td>2</td>\n",
       "    </tr>\n",
       "    <tr>\n",
       "      <th>52</th>\n",
       "      <td>Data Engineer</td>\n",
       "      <td>Practical applications for AI and an understan...</td>\n",
       "      <td>2</td>\n",
       "    </tr>\n",
       "    <tr>\n",
       "      <th>53</th>\n",
       "      <td>Solutions Architect</td>\n",
       "      <td>Basic understanding of AI workflows.  I work w...</td>\n",
       "      <td>2</td>\n",
       "    </tr>\n",
       "    <tr>\n",
       "      <th>54</th>\n",
       "      <td>Lead Data Analyst</td>\n",
       "      <td>Get more hands on with AI</td>\n",
       "      <td>2</td>\n",
       "    </tr>\n",
       "    <tr>\n",
       "      <th>56</th>\n",
       "      <td>Group Product Manager</td>\n",
       "      <td>Basic knowledge on how to use AI</td>\n",
       "      <td>2</td>\n",
       "    </tr>\n",
       "    <tr>\n",
       "      <th>57</th>\n",
       "      <td>Product Manager</td>\n",
       "      <td>Learn about AI and automating AI tasks with py...</td>\n",
       "      <td>2</td>\n",
       "    </tr>\n",
       "    <tr>\n",
       "      <th>69</th>\n",
       "      <td>Senior Program Manager</td>\n",
       "      <td>Be more knowledgeable with AI</td>\n",
       "      <td>2</td>\n",
       "    </tr>\n",
       "    <tr>\n",
       "      <th>76</th>\n",
       "      <td>CTO - founder, technology lead</td>\n",
       "      <td>From the AI Builders Bootcamp, I hope to achie...</td>\n",
       "      <td>2</td>\n",
       "    </tr>\n",
       "    <tr>\n",
       "      <th>77</th>\n",
       "      <td>Head of Data Solutions</td>\n",
       "      <td>Learn more about modern tech</td>\n",
       "      <td>2</td>\n",
       "    </tr>\n",
       "    <tr>\n",
       "      <th>78</th>\n",
       "      <td>Technical Project Manager</td>\n",
       "      <td>AI basics, introduction and how to use it my w...</td>\n",
       "      <td>2</td>\n",
       "    </tr>\n",
       "    <tr>\n",
       "      <th>79</th>\n",
       "      <td>SAP Technical Consultant</td>\n",
       "      <td>Skill-up on 'Python' and AI.</td>\n",
       "      <td>2</td>\n",
       "    </tr>\n",
       "    <tr>\n",
       "      <th>80</th>\n",
       "      <td>Senior software developer</td>\n",
       "      <td>Developer-level understanding of Gen-AI and re...</td>\n",
       "      <td>2</td>\n",
       "    </tr>\n",
       "  </tbody>\n",
       "</table>\n",
       "</div>"
      ],
      "text/plain": [
       "                                    job_title  \\\n",
       "1   Financial Management & Compliance Advisor   \n",
       "3                            Staff Scientist    \n",
       "5                         Solutions Architect   \n",
       "9          Data Analyst/ Systems Professional   \n",
       "12                          Senior Specialist   \n",
       "22                                        CTO   \n",
       "23                                  ML Expert   \n",
       "27             CTO - founder, technology lead   \n",
       "33                         Research Scientist   \n",
       "34     Vice President, Data Management Office   \n",
       "36                            Data Scientist    \n",
       "37                     Senior Program Manager   \n",
       "38                          Success Architect   \n",
       "39                    Partner Business Manger   \n",
       "47                   Senior Software Engineer   \n",
       "51                            Head of Product   \n",
       "52                              Data Engineer   \n",
       "53                        Solutions Architect   \n",
       "54                          Lead Data Analyst   \n",
       "56                      Group Product Manager   \n",
       "57                           Product Manager    \n",
       "69                     Senior Program Manager   \n",
       "76             CTO - founder, technology lead   \n",
       "77                     Head of Data Solutions   \n",
       "78                  Technical Project Manager   \n",
       "79                  SAP Technical Consultant    \n",
       "80                  Senior software developer   \n",
       "\n",
       "                                          join_reason  segment  \n",
       "1   Gain knowledge and skills to be able to develo...        2  \n",
       "3   Better understanding and skill set in AI to ma...        2  \n",
       "5   I would like to understand AI, how to create L...        2  \n",
       "9                     how to start my own ai business        2  \n",
       "12  Experience setting up my own environment and h...        2  \n",
       "22  As a tech leader, I want to understand the pos...        2  \n",
       "23  experience with AI project and regularity of d...        2  \n",
       "27  I would like to deepen my understanding of AI ...        2  \n",
       "33  Get hands on experience with AI projects and l...        2  \n",
       "34  Get foundational knowledge on AI and related t...        2  \n",
       "36  Bridge any knowledge gaps and improve my under...        2  \n",
       "37  Get more familiar with AI and have some knowle...        2  \n",
       "38                Intro to AI programming with Python        2  \n",
       "39                             Become an expert at AI        2  \n",
       "47  Hands on experience in learning AI that will h...        2  \n",
       "51  Uplevel my knowledge on AI and ideally be able...        2  \n",
       "52  Practical applications for AI and an understan...        2  \n",
       "53  Basic understanding of AI workflows.  I work w...        2  \n",
       "54                          Get more hands on with AI        2  \n",
       "56                  Basic knowledge on how to use AI         2  \n",
       "57  Learn about AI and automating AI tasks with py...        2  \n",
       "69                      Be more knowledgeable with AI        2  \n",
       "76  From the AI Builders Bootcamp, I hope to achie...        2  \n",
       "77                       Learn more about modern tech        2  \n",
       "78  AI basics, introduction and how to use it my w...        2  \n",
       "79                       Skill-up on 'Python' and AI.        2  \n",
       "80  Developer-level understanding of Gen-AI and re...        2  "
      ]
     },
     "execution_count": 17,
     "metadata": {},
     "output_type": "execute_result"
    }
   ],
   "source": [
    "df[df[\"segment\"]==2]"
   ]
  },
  {
   "cell_type": "markdown",
   "id": "1c9530b1-528a-4081-a771-b3346ef73b8a",
   "metadata": {},
   "source": [
    "### Limitations:\n",
    "- KMeans assumes similar cluster sizes\n",
    "- Prone to noise (bad for smaller datasets)\n",
    "\n",
    "### Future directions:\n",
    "- evaluate segments with KPIs e.g. left_review, left_5_star_review, made it to final lecture, attendance score\n",
    "- explore other embeddings models and clustering methods\n",
    "- train linear probes to interpret embeddings and clusters"
   ]
  },
  {
   "cell_type": "code",
   "execution_count": null,
   "id": "f9c2c3ef-53e1-496f-b3ef-21328a2d4a4a",
   "metadata": {},
   "outputs": [],
   "source": []
  }
 ],
 "metadata": {
  "kernelspec": {
   "display_name": "Python 3 (ipykernel)",
   "language": "python",
   "name": "python3"
  },
  "language_info": {
   "codemirror_mode": {
    "name": "ipython",
    "version": 3
   },
   "file_extension": ".py",
   "mimetype": "text/x-python",
   "name": "python",
   "nbconvert_exporter": "python",
   "pygments_lexer": "ipython3",
   "version": "3.12.2"
  }
 },
 "nbformat": 4,
 "nbformat_minor": 5
}
